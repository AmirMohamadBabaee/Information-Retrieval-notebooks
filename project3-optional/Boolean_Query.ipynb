{
 "cells": [
  {
   "cell_type": "markdown",
   "metadata": {
    "id": "-MYmYmnT6vWM"
   },
   "source": [
    "# Boolean Query\n",
    "\n",
    "In this notebook, we will implement a Boolean information retrieval model by Elasticsearch.  \n",
    "We have these steps: <br>\n",
    "\n",
    "**1- Connect to the Elasticsearch Cluster and Create an Index <br>\n",
    "2- Indexing Documents <br>\n",
    "3- Boolean Retrieval (Fill where ever it says #TODO in this part)** <br>\n",
    "\n",
    "Let me know if you have any problems with this notebook or implementation. <br>\n",
    "**Telegram**: [@Mohammad_Ardestani4](https://t.me/Mohammad_Ardestani4) <br>\n",
    "**Email**: mjavad.ardestani00@gmial.com\n",
    "\n",
    "**Student Information:**\n",
    "AmirMohammad Babaei\n",
    "9831011"
   ]
  },
  {
   "cell_type": "code",
   "execution_count": 3,
   "metadata": {
    "colab": {
     "base_uri": "https://localhost:8080/"
    },
    "id": "e1Ld-wPi9eXy",
    "outputId": "674c7229-e760-4099-b44c-9f22774a87a1"
   },
   "outputs": [
    {
     "name": "stdout",
     "output_type": "stream",
     "text": [
      "Requirement already satisfied: elasticsearch in ./venv/lib/python3.8/site-packages (8.3.0)\n",
      "Requirement already satisfied: elastic-transport<9,>=8 in ./venv/lib/python3.8/site-packages (from elasticsearch) (8.1.2)\n",
      "Requirement already satisfied: certifi in ./venv/lib/python3.8/site-packages (from elastic-transport<9,>=8->elasticsearch) (2022.6.15)\n",
      "Requirement already satisfied: urllib3<2,>=1.26.2 in ./venv/lib/python3.8/site-packages (from elastic-transport<9,>=8->elasticsearch) (1.26.9)\n",
      "Collecting tqdm\n",
      "  Using cached tqdm-4.64.0-py2.py3-none-any.whl (78 kB)\n",
      "Installing collected packages: tqdm\n",
      "Successfully installed tqdm-4.64.0\n"
     ]
    }
   ],
   "source": [
    "!pip install elasticsearch\n",
    "!pip install tqdm"
   ]
  },
  {
   "cell_type": "code",
   "execution_count": 4,
   "metadata": {
    "colab": {
     "base_uri": "https://localhost:8080/"
    },
    "id": "zz8PVXZwOTKg",
    "outputId": "0a3a1049-0e4c-42dc-a7c2-4fd2af0fff53"
   },
   "outputs": [],
   "source": [
    "from elasticsearch import Elasticsearch, helpers\n",
    "import os, json, time\n",
    "from datetime import datetime\n",
    "from tqdm import tqdm "
   ]
  },
  {
   "cell_type": "markdown",
   "metadata": {
    "id": "8VrkfiwK68K7"
   },
   "source": [
    "## Ignore The Security Warnings\n",
    "Here we ignore the security warnings. It's suggested that you don't run below cell until you ensure that all warnings are about security. \n"
   ]
  },
  {
   "cell_type": "code",
   "execution_count": 3,
   "metadata": {
    "id": "BsAE99xuOTKj"
   },
   "outputs": [],
   "source": [
    "import warnings\n",
    "warnings.filterwarnings('ignore')"
   ]
  },
  {
   "cell_type": "code",
   "execution_count": 5,
   "metadata": {
    "id": "GuyHX6pd3HAm"
   },
   "outputs": [],
   "source": [
    "!echo -e \"[ELASTIC]\\ncloud_id = IR_phase3:dXMtY2VudHJhbDEuZ2NwLmNsb3VkLmVzLmlvJDE4MDM5N2JjM2YyMTRjMzVhYzFmMjgzYjNmM2ZkYzk1JDYwNmE4YzY5ZmM5MjQ0ZGQ4MGRhZDdhODk1OTI0YzNl\\nuser = elastic\\npassword = Dq9uLcCHKbnsqXMQtASef5z0\\n\" > example.ini"
   ]
  },
  {
   "cell_type": "code",
   "execution_count": 6,
   "metadata": {
    "colab": {
     "base_uri": "https://localhost:8080/"
    },
    "id": "s-mcQ-IY4_Hr",
    "outputId": "e4fd0f18-bb62-4fc9-fe62-2b2489f0a93b"
   },
   "outputs": [
    {
     "name": "stdout",
     "output_type": "stream",
     "text": [
      "[ELASTIC]\r\n",
      "cloud_id = IR_phase3:dXMtY2VudHJhbDEuZ2NwLmNsb3VkLmVzLmlvJDE4MDM5N2JjM2YyMTRjMzVhYzFmMjgzYjNmM2ZkYzk1JDYwNmE4YzY5ZmM5MjQ0ZGQ4MGRhZDdhODk1OTI0YzNl\r\n",
      "user = elastic\r\n",
      "password = Dq9uLcCHKbnsqXMQtASef5z0\r\n",
      "\r\n"
     ]
    }
   ],
   "source": [
    "!cat example.ini"
   ]
  },
  {
   "cell_type": "code",
   "execution_count": 7,
   "metadata": {
    "colab": {
     "base_uri": "https://localhost:8080/",
     "height": 370
    },
    "id": "SZ38UddzOTKm",
    "outputId": "7c582d2f-effa-4b55-8b53-48b7a5182ef4"
   },
   "outputs": [
    {
     "name": "stdout",
     "output_type": "stream",
     "text": [
      "dict_keys(['title', 'content', 'tags', 'date', 'url', 'category'])\n"
     ]
    }
   ],
   "source": [
    "import json\n",
    "dataset_path = 'IR_data_news_12k.json'\n",
    "with open(dataset_path) as f:\n",
    "    data = json.load(f)\n",
    "print(data['0'].keys())"
   ]
  },
  {
   "cell_type": "markdown",
   "metadata": {
    "id": "34HO2cmPOTKo"
   },
   "source": [
    "## Connect to the Elasticsearch Cluster and Create an Index\n",
    "After starting your Elasticsearch on your pc (localhost:9200 is the default), we have to connect to it via the following piece of code.\n"
   ]
  },
  {
   "cell_type": "code",
   "execution_count": 8,
   "metadata": {
    "colab": {
     "base_uri": "https://localhost:8080/"
    },
    "id": "a8ziIFJq4EHz",
    "outputId": "238414e3-931a-4088-d5e4-a50ca870745d"
   },
   "outputs": [
    {
     "data": {
      "text/plain": [
       "['example.ini']"
      ]
     },
     "execution_count": 8,
     "metadata": {},
     "output_type": "execute_result"
    }
   ],
   "source": [
    "import configparser\n",
    "\n",
    "config = configparser.ConfigParser()\n",
    "config.read('example.ini')"
   ]
  },
  {
   "cell_type": "code",
   "execution_count": 9,
   "metadata": {
    "colab": {
     "base_uri": "https://localhost:8080/"
    },
    "id": "6i5dNaU44xSA",
    "outputId": "48c9664e-daa0-46a8-b81b-5dbbb86a2602"
   },
   "outputs": [
    {
     "data": {
      "text/plain": [
       "<Section: ELASTIC>"
      ]
     },
     "execution_count": 9,
     "metadata": {},
     "output_type": "execute_result"
    }
   ],
   "source": [
    "config['ELASTIC']"
   ]
  },
  {
   "cell_type": "code",
   "execution_count": null,
   "metadata": {
    "colab": {
     "base_uri": "https://localhost:8080/"
    },
    "id": "jKxaAaTYOTKq",
    "outputId": "bffad639-0d88-4f26-d809-f8e39caf9961",
    "scrolled": true
   },
   "outputs": [],
   "source": [
    "index_name = 'ta3_index'\n",
    "es = Elasticsearch(\n",
    "    cloud_id=config['ELASTIC']['cloud_id'],\n",
    "    http_auth=(config['ELASTIC']['user'], config['ELASTIC']['password'])\n",
    ")\n",
    "es.indices.create(index = index_name)"
   ]
  },
  {
   "cell_type": "markdown",
   "metadata": {
    "id": "6_q1_y8A1wZk"
   },
   "source": [
    "### Check the Cluster Status"
   ]
  },
  {
   "cell_type": "code",
   "execution_count": 11,
   "metadata": {
    "colab": {
     "base_uri": "https://localhost:8080/"
    },
    "id": "wzH4AbnGOTKs",
    "outputId": "a3b2462c-db68-45fe-a29d-e5d84ee0f1e7"
   },
   "outputs": [
    {
     "data": {
      "text/plain": [
       "{'name': 'instance-0000000001',\n",
       " 'cluster_name': '180397bc3f214c35ac1f283b3f3fdc95',\n",
       " 'cluster_uuid': 'pJv6cAu-S_KeEz6j-dOqGA',\n",
       " 'version': {'number': '8.3.0',\n",
       "  'build_type': 'docker',\n",
       "  'build_hash': '5b8b981647acdf1ba1d88751646b49d1b461b4cc',\n",
       "  'build_date': '2022-06-23T22:48:49.607492124Z',\n",
       "  'build_snapshot': False,\n",
       "  'lucene_version': '9.2.0',\n",
       "  'minimum_wire_compatibility_version': '7.17.0',\n",
       "  'minimum_index_compatibility_version': '7.0.0'},\n",
       " 'tagline': 'You Know, for Search'}"
      ]
     },
     "execution_count": 11,
     "metadata": {},
     "output_type": "execute_result"
    }
   ],
   "source": [
    "dict(es.info())"
   ]
  },
  {
   "cell_type": "markdown",
   "metadata": {
    "id": "t92obnEz1wZm"
   },
   "source": [
    "## Indexing Documents "
   ]
  },
  {
   "cell_type": "markdown",
   "metadata": {
    "id": "0Z2i0tJoOTKv"
   },
   "source": [
    "we can add our documents to created index in two ways:<br>\n",
    "1- one by one in for loop. <br>\n",
    "2- use [Bulk API](https://www.elastic.co/guide/en/elasticsearch/reference/current/docs-bulk.html#:~:text=Bulk%20APIedit,can%20greatly%20increase%20indexing%20speed.), which performs multiple indexing or delete operations in a single API call. This reduces overhead and can significantly increase indexing speed."
   ]
  },
  {
   "cell_type": "markdown",
   "metadata": {
    "id": "ibRuMxh8OTKx"
   },
   "source": [
    "###  for loop by es.index \n",
    "**You dont have to run this cell**. "
   ]
  },
  {
   "cell_type": "code",
   "execution_count": null,
   "metadata": {
    "id": "E81WiFk2OTKz",
    "outputId": "473515f6-ee69-484c-9560-6f42d9f6372e",
    "scrolled": false
   },
   "outputs": [
    {
     "name": "stderr",
     "output_type": "stream",
     "text": [
      "100%|█████████████████████████████████████| 12202/12202 [03:41<00:00, 55.02it/s]\n"
     ]
    }
   ],
   "source": [
    "for i in tqdm(range(len(data))):\n",
    "    es.index(index = index_name, id=i, document=data[str(i)])\n",
    "    i = i + 1"
   ]
  },
  {
   "cell_type": "markdown",
   "metadata": {
    "id": "hiv35Uj3OTK2"
   },
   "source": [
    "###  Bulk API"
   ]
  },
  {
   "cell_type": "code",
   "execution_count": 12,
   "metadata": {
    "id": "qt1XZ-BaOTK4"
   },
   "outputs": [],
   "source": [
    "from elasticsearch.helpers import bulk\n",
    "\n",
    "def bulk_sync():\n",
    "    actions = [\n",
    "        {\n",
    "            '_index': 'ta3_index',\n",
    "            '_id':doc_id,\n",
    "            '_source': doc\n",
    "        } for doc_id,doc in data.items()\n",
    "    ]\n",
    "    bulk(es, actions)\n"
   ]
  },
  {
   "cell_type": "code",
   "execution_count": 13,
   "metadata": {
    "id": "QUuoIuvlOTK5",
    "outputId": "986166d0-0667-4398-df03-0a4b836a4eb7"
   },
   "outputs": [
    {
     "name": "stdout",
     "output_type": "stream",
     "text": [
      "Indexing all documents took about 91.39 seconds\n"
     ]
    }
   ],
   "source": [
    "start = time.time()\n",
    "bulk_sync()\n",
    "end = time.time()\n",
    "print(\"Indexing all documents took about {:.2f} seconds\".format(end - start))"
   ]
  },
  {
   "cell_type": "markdown",
   "metadata": {
    "id": "mHIPOwW1OTK7"
   },
   "source": [
    "### check index"
   ]
  },
  {
   "cell_type": "code",
   "execution_count": 38,
   "metadata": {
    "id": "hg8OYRf_OTK8",
    "outputId": "259e5c05-4b2e-40c6-8c9f-6aa9b41f4563"
   },
   "outputs": [
    {
     "data": {
      "text/plain": [
       "ObjectApiResponse({'count': 12202, '_shards': {'total': 1, 'successful': 1, 'skipped': 0, 'failed': 0}})"
      ]
     },
     "execution_count": 38,
     "metadata": {},
     "output_type": "execute_result"
    }
   ],
   "source": [
    "es.count(index = 'ta3_index')"
   ]
  },
  {
   "cell_type": "markdown",
   "metadata": {
    "id": "9PDnW1SnOTK-"
   },
   "source": [
    "## Boolean Retrieval "
   ]
  },
  {
   "cell_type": "markdown",
   "metadata": {
    "id": "mTtzPkLCOTK-"
   },
   "source": [
    "### Bool Query Structure\n",
    "\n",
    "It is built using one or more boolean clauses, each clause with a typed occurrence. The occurrence types are:\n",
    "\n",
    "**must**: The clause (query) must appear in matching documents and will contribute to the score.\n",
    "<br><br>\n",
    "**filter**: The clause (query) must appear in matching documents. However unlike must the score of the query will be ignored. Filter clauses are executed in filter context, meaning that scoring is ignored and clauses are considered for caching.\n",
    "<br><br>\n",
    "**should**: The clause (query) should appear in the matching document.\n",
    "<br><br>\n",
    "**must_not**: The clause (query) must not appear in the matching documents. Clauses are executed in filter context meaning that scoring is ignored and clauses are considered for caching. Because scoring is ignored, a score of 0 for all documents is returned.\n",
    "\n",
    "For further information, you can read this [Document](https://www.elastic.co/guide/en/elasticsearch/reference/current/query-dsl-bool-query.html). \n",
    "\n",
    "###  <span style=\"color:red\"> TODO </span>\n",
    "You should read about [match query](https://www.elastic.co/guide/en/elasticsearch/reference/current/query-dsl-match-query.html#match-top-level-params) and [match phrase query](https://www.elastic.co/guide/en/elasticsearch/reference/current/query-dsl-match-query-phrase.html) then complete the below cell."
   ]
  },
  {
   "cell_type": "code",
   "execution_count": 28,
   "metadata": {
    "id": "G6XYVxrjOTK_"
   },
   "outputs": [],
   "source": [
    "query= {\n",
    "        \"bool\": {\n",
    "          \"should\": [\n",
    "              { \n",
    "                  #TODO: add a match query structure ==> use for normal words\n",
    "                  \"match\": {\n",
    "                      \"content\": {\n",
    "                          \"query\": \"آمریکا\"\n",
    "                      }\n",
    "                  }\n",
    "              }, \n",
    "              \n",
    "              { \n",
    "                  #TODO: add a match pharse query strucutre ==> use for words in <\"\">\n",
    "                  \"match_phrase\": {\n",
    "                      \"content\": \"تحریم هسته‌ای\"\n",
    "                  }\n",
    "              },\n",
    "   \n",
    "          ],\n",
    "          \"must_not\": [\n",
    "              {\n",
    "                  #TODO: add a match or match pharse query structure ==> use for words after <!>\n",
    "                  \"match\": {\n",
    "                      \"content\": {\n",
    "                          \"query\": \"ایران\"\n",
    "                      }\n",
    "                  }\n",
    "              }\n",
    "          ],\n",
    "        },\n",
    "    }"
   ]
  },
  {
   "cell_type": "code",
   "execution_count": 33,
   "metadata": {},
   "outputs": [],
   "source": [
    "query2= {\n",
    "        \"bool\": {\n",
    "          \"should\": [\n",
    "              { \n",
    "                  #TODO: add a match query structure ==> use for normal words\n",
    "                  \"match\": {\n",
    "                      \"content\": {\n",
    "                          \"query\": \"اورشلیم\"\n",
    "                      }\n",
    "                  }\n",
    "              }, \n",
    "   \n",
    "          ],\n",
    "          \"must_not\": [\n",
    "              {\n",
    "                  #TODO: add a match or match pharse query structure ==> use for words after <!>\n",
    "                  \"match\": {\n",
    "                      \"content\": {\n",
    "                          \"query\": \"صهیونیست\"\n",
    "                      }\n",
    "                  }\n",
    "              }\n",
    "          ],\n",
    "        },\n",
    "    }"
   ]
  },
  {
   "cell_type": "markdown",
   "metadata": {
    "id": "GqR7SLBVOTLC"
   },
   "source": [
    "### Search query\n",
    "\n",
    "The _source field contains the original JSON document body that was passed at index time. The _source field itself is not indexed (and thus is not searchable), but it is stored so that it can be returned when executing fetch requests, like get or search.\n",
    "\n",
    "For further information, you can read this [Document](https://www.elastic.co/guide/en/elasticsearch/reference/current/search-search.html#search-api-response-body)."
   ]
  },
  {
   "cell_type": "code",
   "execution_count": 29,
   "metadata": {
    "id": "SSrpYB5JOTLC"
   },
   "outputs": [],
   "source": [
    "res = es.search(index = 'ta3_index', query=query, _source= [\"url\"])\n",
    "res = dict(res)"
   ]
  },
  {
   "cell_type": "code",
   "execution_count": 34,
   "metadata": {},
   "outputs": [],
   "source": [
    "res2 = es.search(index = 'ta3_index', query=query2, _source= [\"url\"])\n",
    "res2 = dict(res2)"
   ]
  },
  {
   "cell_type": "markdown",
   "metadata": {
    "id": "nkHMGaXfOTLD"
   },
   "source": [
    "### Results"
   ]
  },
  {
   "cell_type": "code",
   "execution_count": 31,
   "metadata": {},
   "outputs": [],
   "source": [
    "def print_result(res):\n",
    "    print(\"{} results in {} s: \".format(res['hits']['total']['value'] ,res['took']/1000))\n",
    "    for doc in res['hits']['hits']:\n",
    "        print(doc['_source']['url'])"
   ]
  },
  {
   "cell_type": "code",
   "execution_count": 32,
   "metadata": {
    "id": "g3sPDdpROTLE",
    "scrolled": true
   },
   "outputs": [
    {
     "name": "stdout",
     "output_type": "stream",
     "text": [
      "171 results in 0.007 s: \n",
      "https://www.farsnews.ir/news/14001214000789/نماینده-کلیمیان-در-مجلس-دهم--کارتل‌ها-بر-تصمیمات-هیأت-حاکمه-آمریکا\n",
      "https://www.farsnews.ir/news/14001217000665/خباثت‌های-آمریکا-در-برجام-روسیه-و-چین-را-هم-به-این-کشور-بدبین-کرد\n",
      "https://www.farsnews.ir/news/14001213000089/آمریکا-با-بحران‌آفرینی-به-حیات-خود-ادامه-می-دهد\n",
      "https://www.farsnews.ir/news/14001211000321/آمریکا-دولت‌های-متحد-خود-را-در-زمان-اضطرار-تنها-می‌گذارد\n",
      "https://www.farsnews.ir/news/14001211000898/سود-مافیای-اسلحه‌سازی-آمریکا-در-ناامن-بودن-جهان-است\n",
      "https://www.farsnews.ir/news/14001214000825/آمریکا-رژیمی-مافیایی-است-و-مردم-در-تصمیمات-حاکمان-آن-جایگاهی-ندارند\n",
      "https://www.farsnews.ir/news/14001212000725/آمریکا-برای-فروش-تسلیحات-خود-به-ایجادناامنی-و-بحران‌آفرینی-نیاز-دارد\n",
      "https://www.farsnews.ir/news/14001204000444/۲۸-آمریکایی-در-جام-یاشاردوغو-جردن-باروز-هم-می‌آید\n",
      "https://www.farsnews.ir/news/14001213000328/کارتل‌های-اقتصادی-رؤسای-جمهور-آمریکا-را-تعیین-می‌کنند\n",
      "https://www.farsnews.ir/news/14001211000220/نماینده-کلیمیان-در-مجلس-منافع-رژیم-مافیایی-آمریکا-در-ایجاد-ناامنی-است\n"
     ]
    }
   ],
   "source": [
    "print_result(res)"
   ]
  },
  {
   "attachments": {},
   "cell_type": "markdown",
   "metadata": {},
   "source": [
    "![image.png](./images/america-1.png)"
   ]
  },
  {
   "attachments": {},
   "cell_type": "markdown",
   "metadata": {},
   "source": [
    "![image.png](./images/america-2.png)"
   ]
  },
  {
   "attachments": {},
   "cell_type": "markdown",
   "metadata": {},
   "source": [
    "![image.png](./images/america-3.png)"
   ]
  },
  {
   "cell_type": "markdown",
   "metadata": {},
   "source": [
    "<div dir=\"rtl\">\n",
    "    همانطور که در سه تصویر بالا مشاهده می شود، در هیچ یک از این داک ها کلمه ایران وجود ندارد. همچنین باید توجه داشت که در این مدل به دلیل این که هیچ کلمه ای با عبارت «تحریم هسته‌ای» وجود نداشته است، داک هایی را برگردانده است که دارای تعداد کلمه آمریکا بیشتری بوده اند.\n",
    "</div>"
   ]
  },
  {
   "cell_type": "code",
   "execution_count": 35,
   "metadata": {},
   "outputs": [
    {
     "name": "stdout",
     "output_type": "stream",
     "text": [
      "0 results in 0.002 s: \n"
     ]
    }
   ],
   "source": [
    "print_result(res2)"
   ]
  },
  {
   "cell_type": "markdown",
   "metadata": {},
   "source": [
    "<div dir=\"rtl\">\n",
    "    در این حالت نیز همانند مدل قبلی به دلیل نبودن داکی با این ویژگی، در نتیجه هیچ داکی برگردانده نشده است.\n",
    "</div>"
   ]
  },
  {
   "cell_type": "markdown",
   "metadata": {},
   "source": [
    "<div dir=\"rtl\">\n",
    "    به عنوان کاربر نهایی، استفاده از این مدل جدید را ترجیح می دهم. به دلیل سرعت بالاتر و امکانات بیشتر این مدل.\n",
    "</div>"
   ]
  }
 ],
 "metadata": {
  "colab": {
   "collapsed_sections": [],
   "name": "Boolean Query.ipynb",
   "provenance": []
  },
  "kernelspec": {
   "display_name": "Python 3 (ipykernel)",
   "language": "python",
   "name": "python3"
  },
  "language_info": {
   "codemirror_mode": {
    "name": "ipython",
    "version": 3
   },
   "file_extension": ".py",
   "mimetype": "text/x-python",
   "name": "python",
   "nbconvert_exporter": "python",
   "pygments_lexer": "ipython3",
   "version": "3.10.4"
  }
 },
 "nbformat": 4,
 "nbformat_minor": 1
}
