{
 "cells": [
  {
   "cell_type": "markdown",
   "metadata": {
    "id": "h0z1M4CKBUkg"
   },
   "source": [
    "# Spelling Correction\n",
    "Here we are going to implement a spelling correction system with Elasticsearch. It is recommended to read the [documentation](https://www.elastic.co/guide/en/elasticsearch/reference/current/search-suggesters.html) before starting this part of your project. There are three steps and in each of which we add a feature and make an improvement. For the implementations, we will use [Python Elasticsearch Client](https://elasticsearch-py.readthedocs.io/).\n",
    "Here is my email:\n",
    "<a.akhoundi79@gmail.com>\n",
    "\n",
    "Please contact me if there are any problems."
   ]
  },
  {
   "cell_type": "code",
   "execution_count": 1,
   "metadata": {
    "colab": {
     "base_uri": "https://localhost:8080/"
    },
    "id": "WGIDHErpmtem",
    "outputId": "5f8ada16-a0f4-4005-c160-937d91b7771d"
   },
   "outputs": [
    {
     "name": "stdout",
     "output_type": "stream",
     "text": [
      "/usr/local/lib/python3.7/dist-packages/gdown/cli.py:131: FutureWarning: Option `--id` was deprecated in version 4.3.1 and will be removed in 5.0. You don't need to pass it anymore to use a file ID.\n",
      "  category=FutureWarning,\n",
      "Downloading...\n",
      "From: https://drive.google.com/uc?id=1ea3SbNwRZATzlTpTI6L7eQ73W40APj5G\n",
      "To: /content/IR_data_news_12k.json\n",
      "100% 132M/132M [00:00<00:00, 139MB/s]\n"
     ]
    }
   ],
   "source": [
    "!gdown --id 1ea3SbNwRZATzlTpTI6L7eQ73W40APj5G"
   ]
  },
  {
   "cell_type": "code",
   "execution_count": 3,
   "metadata": {
    "colab": {
     "base_uri": "https://localhost:8080/"
    },
    "id": "VjzchVG5mouU",
    "outputId": "d406f253-8ab9-4f15-8009-df47d843dd67"
   },
   "outputs": [
    {
     "name": "stdout",
     "output_type": "stream",
     "text": [
      "Looking in indexes: https://pypi.org/simple, https://us-python.pkg.dev/colab-wheels/public/simple/\n",
      "Collecting elasticsearch\n",
      "  Downloading elasticsearch-8.3.0-py3-none-any.whl (381 kB)\n",
      "\u001b[K     |████████████████████████████████| 381 kB 5.2 MB/s \n",
      "\u001b[?25hCollecting elastic-transport<9,>=8\n",
      "  Downloading elastic_transport-8.1.2-py3-none-any.whl (59 kB)\n",
      "\u001b[K     |████████████████████████████████| 59 kB 5.9 MB/s \n",
      "\u001b[?25hCollecting urllib3<2,>=1.26.2\n",
      "  Downloading urllib3-1.26.9-py2.py3-none-any.whl (138 kB)\n",
      "\u001b[K     |████████████████████████████████| 138 kB 50.4 MB/s \n",
      "\u001b[?25hRequirement already satisfied: certifi in /usr/local/lib/python3.7/dist-packages (from elastic-transport<9,>=8->elasticsearch) (2022.6.15)\n",
      "Installing collected packages: urllib3, elastic-transport, elasticsearch\n",
      "  Attempting uninstall: urllib3\n",
      "    Found existing installation: urllib3 1.24.3\n",
      "    Uninstalling urllib3-1.24.3:\n",
      "      Successfully uninstalled urllib3-1.24.3\n",
      "\u001b[31mERROR: pip's dependency resolver does not currently take into account all the packages that are installed. This behaviour is the source of the following dependency conflicts.\n",
      "requests 2.23.0 requires urllib3!=1.25.0,!=1.25.1,<1.26,>=1.21.1, but you have urllib3 1.26.9 which is incompatible.\n",
      "datascience 0.10.6 requires folium==0.2.1, but you have folium 0.8.3 which is incompatible.\u001b[0m\n",
      "Successfully installed elastic-transport-8.1.2 elasticsearch-8.3.0 urllib3-1.26.9\n"
     ]
    }
   ],
   "source": [
    "!pip install elasticsearch"
   ]
  },
  {
   "cell_type": "code",
   "execution_count": 4,
   "metadata": {
    "colab": {
     "base_uri": "https://localhost:8080/"
    },
    "id": "7F_ZPC8mBUkm",
    "outputId": "dda88609-9a51-4d29-b010-fe974bf10796"
   },
   "outputs": [
    {
     "name": "stderr",
     "output_type": "stream",
     "text": [
      "/usr/local/lib/python3.7/dist-packages/requests/__init__.py:91: RequestsDependencyWarning: urllib3 (1.26.9) or chardet (3.0.4) doesn't match a supported version!\n",
      "  RequestsDependencyWarning)\n"
     ]
    }
   ],
   "source": [
    "from elasticsearch import Elasticsearch\n",
    "from elasticsearch import helpers\n",
    "import json\n",
    "from tqdm import tqdm\n",
    "import re\n",
    "from copy import deepcopy"
   ]
  },
  {
   "cell_type": "markdown",
   "metadata": {
    "id": "E7iog64zBUko"
   },
   "source": [
    "In the beginning, We load the dataset and prepare it to upload to the index."
   ]
  },
  {
   "cell_type": "code",
   "execution_count": 5,
   "metadata": {
    "id": "tAt9bbbIBUko"
   },
   "outputs": [],
   "source": [
    "with open(\"IR_data_news_12k.json\" , 'r') as f:\n",
    "    data = json.load(f)"
   ]
  },
  {
   "cell_type": "code",
   "execution_count": 6,
   "metadata": {
    "colab": {
     "base_uri": "https://localhost:8080/"
    },
    "id": "JaDUrjngBUkp",
    "outputId": "b88e11d5-fe0b-4b8f-ef10-c39d12a37e0c"
   },
   "outputs": [
    {
     "name": "stderr",
     "output_type": "stream",
     "text": [
      "100%|██████████| 12202/12202 [00:00<00:00, 315823.59it/s]\n"
     ]
    }
   ],
   "source": [
    "data_tmp = []\n",
    "for i in tqdm(range(len(data))):\n",
    "    doc = data[f'{i}']\n",
    "    content = {\n",
    "        \"content_title\":doc['content']\n",
    "    }\n",
    "    title = {\n",
    "        \"content_title\":doc['title']\n",
    "    }\n",
    "    data_tmp.append(content)\n",
    "    data_tmp.append(title)\n",
    "    "
   ]
  },
  {
   "cell_type": "code",
   "execution_count": 7,
   "metadata": {
    "id": "qnms1jI_BUkp"
   },
   "outputs": [],
   "source": [
    "def load_data_to_elastic(es,data,index_name):\n",
    "    data_bulk = [\n",
    "        {\n",
    "            \"_index\" : index_name,\n",
    "            \"_id\" : i + 1,\n",
    "            \"_source\": data[i]\n",
    "        }\n",
    "        for i in range(len(data))\n",
    "    ]\n",
    "    resp = helpers.bulk(\n",
    "        es,\n",
    "        data_bulk,\n",
    "        index = index_name,\n",
    "        request_timeout=5000\n",
    "    )\n",
    "    print(resp)"
   ]
  },
  {
   "cell_type": "markdown",
   "metadata": {
    "id": "GLmMkd7lBUkq"
   },
   "source": [
    "### Section One\n",
    "In this section, we start our work with a minimum implementation. To begin with, specify your [mapping explicitly](https://www.elastic.co/guide/en/elasticsearch/reference/current/explicit-mapping.html). By default, after uploading documents to your index, Elasticsearch uses type inference to specify the type of each field in your request and then, creates a special index for each of them. To optimize this process, It is better to use explicit mapping and specify the type of each field. Also, you can define [analyzers](https://www.elastic.co/guide/en/elasticsearch/reference/current/analyzer-anatomy.html) and do text processing. \n",
    "At this point, fill the TODO parts by considering the following points:\n",
    "1. In the **index** part, define a [char_filter](https://www.elastic.co/guide/en/elasticsearch/reference/current/analysis-charfilters.html) that replaces zero-width non-joiners (nim fasele) with an ASCII space.\n",
    "\n",
    "2. In the **index** part, define an analyzer that extracts **Trigrams** and **Bigrams** from the text. You can define a [shingle](https://www.elastic.co/guide/en/elasticsearch/reference/current/analysis-shingle-tokenfilter.html) filter and then use it in your analyzer.\n",
    "\n",
    "3. In the mapping part, just define a field named **content_title**. use the analyzer defined in the **index** part to store your documents in the form of **N-grams**. You can store and index a field in multiple ways with different analyzers. See [Multi-fields with multiple analyzers](https://www.elastic.co/guide/en/elasticsearch/reference/current/multi-fields.html#_multi_fields_with_multiple_analyzers)\n"
   ]
  },
  {
   "cell_type": "code",
   "execution_count": null,
   "metadata": {
    "id": "y1vhNkZSBUkr"
   },
   "outputs": [],
   "source": [
    "sc_mapping = {\n",
    "  \"settings\": {\n",
    "    \"index\": {\n",
    "      \"number_of_shards\": 1,\n",
    "      \"analysis\": {\n",
    "        \"analyzer\": {\n",
    "          \"trigram\": {\n",
    "            \"type\": \"custom\",\n",
    "            \"tokenizer\": \"standard\",\n",
    "            \"char_filter\": [\n",
    "                \"zero_width_spaces\",\n",
    "            ],\n",
    "            \"filter\": [\n",
    "                \"new_shingle\",\n",
    "            ]\n",
    "          }\n",
    "        },\n",
    "        \"char_filter\": {\n",
    "          \"zero_width_spaces\": {\n",
    "              \"type\": \"mapping\",\n",
    "              \"mappings\": [\n",
    "                  \"\\\\u200C=>\\\\u0020\",\n",
    "              ]\n",
    "          }\n",
    "        },\n",
    "        \"filter\": {\n",
    "          \"new_shingle\": {\n",
    "            \"type\": \"shingle\",\n",
    "            \"min_shingle_size\": 2,\n",
    "            \"max_shingle_size\": 3\n",
    "          }\n",
    "        }\n",
    "      }\n",
    "    }\n",
    "  },\n",
    "  \"mappings\": {\n",
    "    \"properties\": {\n",
    "      \"content_title\": {\n",
    "        \"type\": \"text\",\n",
    "        \"fields\": {\n",
    "          \"trigram\": {\n",
    "            \"type\": \"text\",\n",
    "            \"analyzer\": \"trigram\"\n",
    "          }\n",
    "        }\n",
    "      }\n",
    "    }\n",
    "  }\n",
    "}"
   ]
  },
  {
   "cell_type": "code",
   "execution_count": null,
   "metadata": {
    "id": "yVh3R5rMBUkt"
   },
   "outputs": [],
   "source": [
    "# Name of index \n",
    "sc_index_name = 'ir_test_sc'"
   ]
  },
  {
   "cell_type": "code",
   "execution_count": 8,
   "metadata": {
    "id": "4V-Exl0enzLm"
   },
   "outputs": [],
   "source": [
    "!echo -e \"[ELASTIC]\\ncloud_id = IR_phase3:dXMtY2VudHJhbDEuZ2NwLmNsb3VkLmVzLmlvJDE4MDM5N2JjM2YyMTRjMzVhYzFmMjgzYjNmM2ZkYzk1JDYwNmE4YzY5ZmM5MjQ0ZGQ4MGRhZDdhODk1OTI0YzNl\\nuser = elastic\\npassword = Dq9uLcCHKbnsqXMQtASef5z0\\n\" > example.ini"
   ]
  },
  {
   "cell_type": "code",
   "execution_count": 9,
   "metadata": {
    "colab": {
     "base_uri": "https://localhost:8080/"
    },
    "id": "1Chgdo0gn1k4",
    "outputId": "55146824-49fb-4ed9-c0b9-438eca42ef17"
   },
   "outputs": [
    {
     "name": "stdout",
     "output_type": "stream",
     "text": [
      "[ELASTIC]\n",
      "cloud_id = IR_phase3:dXMtY2VudHJhbDEuZ2NwLmNsb3VkLmVzLmlvJDE4MDM5N2JjM2YyMTRjMzVhYzFmMjgzYjNmM2ZkYzk1JDYwNmE4YzY5ZmM5MjQ0ZGQ4MGRhZDdhODk1OTI0YzNl\n",
      "user = elastic\n",
      "password = Dq9uLcCHKbnsqXMQtASef5z0\n",
      "\n"
     ]
    }
   ],
   "source": [
    "!cat example.ini"
   ]
  },
  {
   "cell_type": "code",
   "execution_count": 10,
   "metadata": {
    "colab": {
     "base_uri": "https://localhost:8080/"
    },
    "id": "9RFQC1QTmifo",
    "outputId": "dcb3da7e-d9f0-4f99-dc29-d71fb72f08f9"
   },
   "outputs": [
    {
     "data": {
      "text/plain": [
       "['example.ini']"
      ]
     },
     "execution_count": 10,
     "metadata": {},
     "output_type": "execute_result"
    }
   ],
   "source": [
    "import configparser\n",
    "\n",
    "config = configparser.ConfigParser()\n",
    "config.read('example.ini')"
   ]
  },
  {
   "cell_type": "code",
   "execution_count": 11,
   "metadata": {
    "colab": {
     "base_uri": "https://localhost:8080/"
    },
    "id": "acqsPFQWBUkt",
    "outputId": "1784d596-15e4-4fbf-ba3d-b1cf5d2c1c2e"
   },
   "outputs": [
    {
     "name": "stderr",
     "output_type": "stream",
     "text": [
      "/usr/local/lib/python3.7/dist-packages/ipykernel_launcher.py:4: DeprecationWarning: The 'timeout' parameter is deprecated in favor of 'request_timeout'\n",
      "  after removing the cwd from sys.path.\n",
      "/usr/local/lib/python3.7/dist-packages/ipykernel_launcher.py:4: DeprecationWarning: The 'http_auth' parameter is deprecated. Use 'basic_auth' or 'bearer_auth' parameters instead\n",
      "  after removing the cwd from sys.path.\n"
     ]
    }
   ],
   "source": [
    "es = Elasticsearch(\n",
    "    cloud_id=config['ELASTIC']['cloud_id'],\n",
    "    http_auth=(config['ELASTIC']['user'], config['ELASTIC']['password']),\n",
    "    timeout=60000, max_retries=10, retry_on_timeout=True\n",
    ")"
   ]
  },
  {
   "cell_type": "code",
   "execution_count": null,
   "metadata": {
    "colab": {
     "base_uri": "https://localhost:8080/"
    },
    "id": "sUOjYDBDBUku",
    "outputId": "1b8d0138-406b-4611-949f-0bd3fcd00717"
   },
   "outputs": [
    {
     "name": "stderr",
     "output_type": "stream",
     "text": [
      "/usr/local/lib/python3.7/dist-packages/ipykernel_launcher.py:6: DeprecationWarning: The 'body' parameter is deprecated and will be removed in a future version. Instead use individual parameters.\n",
      "  \n"
     ]
    },
    {
     "data": {
      "text/plain": [
       "ObjectApiResponse({'acknowledged': True, 'shards_acknowledged': True, 'index': 'ir_test_sc'})"
      ]
     },
     "execution_count": 16,
     "metadata": {},
     "output_type": "execute_result"
    }
   ],
   "source": [
    "# Delete index if one does exist\n",
    "if es.indices.exists(index=sc_index_name):\n",
    "    es.indices.delete(index=sc_index_name)\n",
    "\n",
    "# Create index\n",
    "es.indices.create(index=sc_index_name, body=sc_mapping)"
   ]
  },
  {
   "cell_type": "code",
   "execution_count": null,
   "metadata": {
    "colab": {
     "base_uri": "https://localhost:8080/"
    },
    "id": "EiGxkRQnmifr",
    "outputId": "410bfc0e-6ba5-4a49-9324-3ce78599d977"
   },
   "outputs": [
    {
     "data": {
      "text/plain": [
       "True"
      ]
     },
     "execution_count": 17,
     "metadata": {},
     "output_type": "execute_result"
    }
   ],
   "source": [
    "es.ping()"
   ]
  },
  {
   "cell_type": "code",
   "execution_count": null,
   "metadata": {
    "colab": {
     "base_uri": "https://localhost:8080/"
    },
    "id": "7zwomQVqBUku",
    "outputId": "1e16cda6-2e55-4396-f97f-943202e5674b",
    "scrolled": true
   },
   "outputs": [
    {
     "name": "stderr",
     "output_type": "stream",
     "text": [
      "/usr/local/lib/python3.7/dist-packages/ipykernel_launcher.py:14: DeprecationWarning: Passing transport options in the API method is deprecated. Use 'Elasticsearch.options()' instead.\n",
      "  \n"
     ]
    },
    {
     "name": "stdout",
     "output_type": "stream",
     "text": [
      "(24404, [])\n"
     ]
    }
   ],
   "source": [
    "load_data_to_elastic(es,data_tmp,sc_index_name)"
   ]
  },
  {
   "cell_type": "markdown",
   "metadata": {
    "id": "zf_3UPMQBUku"
   },
   "source": [
    "The function `get_suggestion` takes an input text (the text which should be corrected) followed by `index_name`. Assign proper values to each parameter (follow the instructions from the PDF). See [phrase suggester](https://www.elastic.co/guide/en/elasticsearch/reference/current/search-suggesters.html#phrase-suggester). "
   ]
  },
  {
   "cell_type": "code",
   "execution_count": null,
   "metadata": {
    "id": "mv1r0K8SBUkv"
   },
   "outputs": [],
   "source": [
    "def get_suggestions(text , index_name):\n",
    "    resp = es.search(index=index_name,suggest={\n",
    "        \"text\": text,\n",
    "        \"simple_phrase\": {\n",
    "            \"phrase\": {\n",
    "                \"smoothing\" : {\n",
    "                    \"laplace\": {\n",
    "                        \"alpha\": 0.7\n",
    "                    }\n",
    "                },\n",
    "                \"field\": \"content_title.trigram\",\n",
    "                \"size\": 5,\n",
    "                \"confidence\": 0.75,\n",
    "                \"real_word_error_likelihood\": 0.9,\n",
    "                \"max_errors\" : 2,\n",
    "                \"direct_generator\": [ \n",
    "                    {\n",
    "                        \"field\": \"content_title\",\n",
    "                        \"prefix_length\": 2,\n",
    "                    }\n",
    "                ]\n",
    "            }\n",
    "        }\n",
    "    },size=5)\n",
    "    return dict(resp)"
   ]
  },
  {
   "cell_type": "code",
   "execution_count": 24,
   "metadata": {
    "id": "c_d1wuu4BUkv"
   },
   "outputs": [],
   "source": [
    "texts = [\n",
    "    \"لیک برتر فوطبال\",\n",
    "    \"تورنومنت شش جانبه\",\n",
    "    \"طبعیض نژادی\",\n",
    "    \"اردوی طیم امیذ\",\n",
    "    \"جام ملب های آشیا\",\n",
    "    \"کنره سیاسی آمریکا\",\n",
    "    \"انغلاب اشلامی ایران\",\n",
    "    \"فدراصیون فوتبال ایران\",\n",
    "    \"لایهه مجلص خبرگان\",\n",
    "    \"نحبگان دانشگاهی\",\n",
    "    \"نمایند مجل\",\n",
    "    \"فضاسازی کازب\",\n",
    "    \"صلاح ایرادات شورای تگهبان\",\n",
    "    \"تهریف های تاریخی\",\n",
    "    \"قلیت های دینی\",\n",
    "    \"تدارکان لازم\",\n",
    "]"
   ]
  },
  {
   "cell_type": "code",
   "execution_count": null,
   "metadata": {
    "colab": {
     "base_uri": "https://localhost:8080/"
    },
    "id": "RdrupJl9BUkv",
    "outputId": "52f1ba5b-dd40-4a89-f011-5c327f20e9f2"
   },
   "outputs": [
    {
     "name": "stdout",
     "output_type": "stream",
     "text": [
      "[{'text': 'لیک برتر فوطبال', 'offset': 0, 'length': 15, 'options': [{'text': 'لیک برتر فوطبال', 'score': 1.3103538e-07}, {'text': 'لیک برتر فوتبال', 'score': 1.2619695e-07}, {'text': 'لیک برتر فوبال', 'score': 1.2450114e-07}, {'text': 'لیک برتر فوتبالش', 'score': 1.1502317e-07}, {'text': 'لیک برتر فوتبالی', 'score': 1.1502317e-07}]}]\n",
      "========================\n",
      "[{'text': 'تورنومنت شش جانبه', 'offset': 0, 'length': 17, 'options': [{'text': 'تورنومنت شش جانبه', 'score': 1.6018531e-07}]}]\n",
      "========================\n",
      "[{'text': 'طبعیض نژادی', 'offset': 0, 'length': 11, 'options': [{'text': 'طبیعی نژادی', 'score': 0.00012165715}, {'text': 'طبیعت نژادی', 'score': 4.3336455e-05}, {'text': 'طبعاً نژادی', 'score': 2.6201731e-05}, {'text': 'طبعی نژادی', 'score': 1.0193491e-05}, {'text': 'طبعتا نژادی', 'score': 9.251997e-06}]}]\n",
      "========================\n",
      "[{'text': 'اردوی طیم امیذ', 'offset': 0, 'length': 14, 'options': [{'text': 'اردوی طیم امیذ', 'score': 1.7475584e-06}, {'text': 'اردوی طیم امید', 'score': 1.6145211e-06}, {'text': 'اردوی طیم امیر', 'score': 1.6145211e-06}, {'text': 'اردوی طیم امیل', 'score': 1.6145211e-06}, {'text': 'اردوی طیم امین', 'score': 1.6145211e-06}]}]\n",
      "========================\n",
      "[{'text': 'جام ملب های آشیا', 'offset': 0, 'length': 16, 'options': [{'text': 'جام ملب های آشیا', 'score': 4.1462343e-08}, {'text': 'جام ملب های آشیخ', 'score': 3.8305917e-08}, {'text': 'جام ملب های آشنا', 'score': 3.8304943e-08}, {'text': 'جام ملب های آشیل', 'score': 3.8304943e-08}, {'text': 'جام ملب های آشوب', 'score': 3.21211e-08}]}]\n",
      "========================\n",
      "[{'text': 'کنره سیاسی آمریکا', 'offset': 0, 'length': 17, 'options': [{'text': 'کنگره سیاسی آمریکا', 'score': 9.4202704e-07}, {'text': 'کناره سیاسی آمریکا', 'score': 6.767032e-07}, {'text': 'کنده سیاسی آمریکا', 'score': 3.5057212e-07}, {'text': 'کنیه سیاسی آمریکا', 'score': 1.4794568e-07}, {'text': 'کنته سیاسی آمریکا', 'score': 1.4794192e-07}]}]\n",
      "========================\n",
      "[{'text': 'انغلاب اشلامی ایران', 'offset': 0, 'length': 19, 'options': [{'text': 'انقلاب اشلامی ایران', 'score': 4.2408965e-06}, {'text': 'انقلاب اشامی ایران', 'score': 4.029419e-06}, {'text': 'انقلاب اشخاصی ایران', 'score': 3.722669e-06}, {'text': 'انقلاب اشرافی ایران', 'score': 3.722669e-06}, {'text': 'انقلاب اشغالی ایران', 'score': 3.722669e-06}]}]\n",
      "========================\n",
      "[{'text': 'فدراصیون فوتبال ایران', 'offset': 0, 'length': 21, 'options': [{'text': 'فدراسیون فوتبال ایران', 'score': 0.0006208334}, {'text': 'فدارسیون فوتبال ایران', 'score': 2.0827654e-06}, {'text': 'فدراسیونی فوتبال ایران', 'score': 4.532279e-07}, {'text': 'فدراسیونِ فوتبال ایران', 'score': 1.6745982e-07}, {'text': 'فدراصیون فوتبال ایران', 'score': 8.7961325e-08}]}]\n",
      "========================\n",
      "[{'text': 'لایهه مجلص خبرگان', 'offset': 0, 'length': 17, 'options': [{'text': 'لایحه مجلس خبرگان', 'score': 3.9524302e-06}, {'text': 'لایحه مجلص خبرگان', 'score': 2.9220496e-06}, {'text': 'لایحه مجلل خبرگان', 'score': 2.699601e-06}, {'text': 'لایحه مجله خبرگان', 'score': 2.699601e-06}, {'text': 'لایحه مجاز خبرگان', 'score': 2.2637275e-06}]}]\n",
      "========================\n",
      "[{'text': 'نحبگان دانشگاهی', 'offset': 0, 'length': 15, 'options': [{'text': 'نحبگان دانشگاهی', 'score': 7.5052676e-06}]}]\n",
      "========================\n",
      "[{'text': 'نمایند مجل', 'offset': 0, 'length': 10, 'options': [{'text': 'نمایند مجل', 'score': 0.000108002656}]}]\n",
      "========================\n",
      "[{'text': 'فضاسازی کازب', 'offset': 0, 'length': 12, 'options': [{'text': 'فضاسازی کاذب', 'score': 9.2102615e-05}, {'text': 'فضاسازی کازب', 'score': 6.781163e-05}, {'text': 'فضاسازی کاتب', 'score': 6.264929e-05}, {'text': 'فضاسازی کازو', 'score': 6.264929e-05}, {'text': 'فضاسازی کاسب', 'score': 6.264929e-05}]}]\n",
      "========================\n",
      "[{'text': 'صلاح ایرادات شورای تگهبان', 'offset': 0, 'length': 25, 'options': [{'text': 'صلاح ایرادات شورای تگهبان', 'score': 1.4062835e-08}]}]\n",
      "========================\n",
      "[{'text': 'تهریف های تاریخی', 'offset': 0, 'length': 16, 'options': [{'text': 'تهدید های تاریخی', 'score': 3.615313e-06}, {'text': 'تهران های تاریخی', 'score': 3.022422e-06}, {'text': 'تهنیت های تاریخی', 'score': 6.121726e-07}, {'text': 'تهذیب های تاریخی', 'score': 2.8001628e-07}, {'text': 'تهییج های تاریخی', 'score': 2.3379137e-07}]}]\n",
      "========================\n",
      "[{'text': 'قلیت های دینی', 'offset': 0, 'length': 13, 'options': [{'text': 'قلی های دینی', 'score': 6.5676846e-07}, {'text': 'قلبی های دینی', 'score': 6.2185336e-07}, {'text': 'قلیچ های دینی', 'score': 2.4538312e-07}, {'text': 'قلیل های دینی', 'score': 2.1907228e-07}, {'text': 'قلت های دینی', 'score': 1.4028348e-07}]}]\n",
      "========================\n",
      "[{'text': 'تدارکان لازم', 'offset': 0, 'length': 12, 'options': [{'text': 'تدارک لازم', 'score': 0.00012313096}, {'text': 'تدارکات لازم', 'score': 7.18837e-05}, {'text': 'تدارکاتی لازم', 'score': 6.663952e-05}, {'text': 'تدارکی لازم', 'score': 1.3575936e-05}, {'text': 'تدارکان لازم', 'score': 7.5052676e-06}]}]\n",
      "========================\n"
     ]
    }
   ],
   "source": [
    "for text in texts:\n",
    "    print(get_suggestions(text,sc_index_name )['suggest']['simple_phrase'])\n",
    "    print(\"========================\")"
   ]
  },
  {
   "cell_type": "markdown",
   "metadata": {
    "id": "UrSusJloBUkw"
   },
   "source": [
    "### Section Two\n",
    "As you may have noticed, candidates for each token in the input text are generated by [Direct Generators](https://www.elastic.co/guide/en/elasticsearch/reference/current/search-suggesters.html#_direct_generators). Usually, we assume that the user does not have misspellings in the first characters of each term in a sentence. Due to this assumption, the default value of `prefix_length` for each generator is set to 1 to considerably decrease the number of candidates for each token. Though setting this parameter to a higher value decreases response time, we cannot correct misspellings that occur at the beginning of each word. To address this problem, we can set the value of `prefix_length` to zero. It increases the number of candidates for each term. A better alternative is using reversed tokens. After reversing, characters at the beginning of the term are placed at the end of the term so, the misspelled characters will be taken into account by the candidate generator. In the figure below, You can see an example of using reversed tokens for generating better suggestions.\n",
    "![direct_generator.png](data:image/png;base64,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)"
   ]
  },
  {
   "cell_type": "markdown",
   "metadata": {
    "id": "kImKTNBOBUkz"
   },
   "source": [
    "At this point, copy your mapping from the previous section to the TODO part then define another analyzer to reverse tokens (see [Reverse Token Filter](https://www.elastic.co/guide/en/elasticsearch/reference/current/analysis-reverse-tokenfilter.html)). After defining the analyzer, use this analyzer to create another index of `content_title` (do not define another field)."
   ]
  },
  {
   "cell_type": "code",
   "execution_count": null,
   "metadata": {
    "id": "TwKqyqDBBUk0"
   },
   "outputs": [],
   "source": [
    "sc_mapping_v1 = {\n",
    "  \"settings\": {\n",
    "    \"index\": {\n",
    "      \"number_of_shards\": 1,\n",
    "      \"analysis\": {\n",
    "        \"analyzer\": {\n",
    "          \"trigram\": {\n",
    "            \"type\": \"custom\",\n",
    "            \"tokenizer\": \"standard\",\n",
    "            \"char_filter\": [\n",
    "                \"zero_width_spaces\",\n",
    "            ],\n",
    "            \"filter\": [\n",
    "                \"lowercase\",\n",
    "                \"new_shingle\",\n",
    "            ]\n",
    "          },\n",
    "          \"reverse\": {\n",
    "              \"type\": \"custom\",\n",
    "              \"tokenizer\": \"standard\",\n",
    "              \"filter\": [\n",
    "                  \"lowercase\",\n",
    "                  \"reverse\",\n",
    "              ]\n",
    "          }\n",
    "        },\n",
    "        \"char_filter\": {\n",
    "          \"zero_width_spaces\": {\n",
    "              \"type\": \"mapping\",\n",
    "              \"mappings\": [\n",
    "                  \"\\\\u200C=>\\\\u0020\",\n",
    "              ]\n",
    "          }\n",
    "        },\n",
    "        \"filter\": {\n",
    "          \"new_shingle\": {\n",
    "            \"type\": \"shingle\",\n",
    "            \"min_shingle_size\": 2,\n",
    "            \"max_shingle_size\": 3\n",
    "          }\n",
    "        }\n",
    "      }\n",
    "    }\n",
    "  },\n",
    "  \"mappings\": {\n",
    "    \"properties\": {\n",
    "      \"content_title\": {\n",
    "        \"type\": \"text\",\n",
    "        \"fields\": {\n",
    "          \"trigram\": {\n",
    "            \"type\": \"text\",\n",
    "            \"analyzer\": \"trigram\"\n",
    "          },\n",
    "          \"reverse\": {\n",
    "              \"type\": \"text\",\n",
    "              \"analyzer\": \"reverse\"\n",
    "          }\n",
    "        }\n",
    "      }\n",
    "    }\n",
    "  }\n",
    "}"
   ]
  },
  {
   "cell_type": "code",
   "execution_count": null,
   "metadata": {
    "id": "w_mwbbmsBUk1"
   },
   "outputs": [],
   "source": [
    "# Name of index \n",
    "sc_index_name_v1 = 'ir_test_sc_v1'"
   ]
  },
  {
   "cell_type": "code",
   "execution_count": null,
   "metadata": {
    "colab": {
     "base_uri": "https://localhost:8080/"
    },
    "id": "nzytLP1ABUk1",
    "outputId": "4a4c309a-4c81-4321-d990-a5c75bb2c962"
   },
   "outputs": [
    {
     "name": "stderr",
     "output_type": "stream",
     "text": [
      "/usr/local/lib/python3.7/dist-packages/ipykernel_launcher.py:6: DeprecationWarning: The 'body' parameter is deprecated and will be removed in a future version. Instead use individual parameters.\n",
      "  \n"
     ]
    },
    {
     "data": {
      "text/plain": [
       "ObjectApiResponse({'acknowledged': True, 'shards_acknowledged': True, 'index': 'ir_test_sc_v1'})"
      ]
     },
     "execution_count": 34,
     "metadata": {},
     "output_type": "execute_result"
    }
   ],
   "source": [
    "# Delete index if one does exist\n",
    "if es.indices.exists(index=sc_index_name_v1):\n",
    "    es.indices.delete(index=sc_index_name_v1)\n",
    "\n",
    "# Create index\n",
    "es.indices.create(index=sc_index_name_v1, body=sc_mapping_v1)"
   ]
  },
  {
   "cell_type": "code",
   "execution_count": null,
   "metadata": {
    "colab": {
     "base_uri": "https://localhost:8080/"
    },
    "id": "j6D1fj4KBUk2",
    "outputId": "8cef81ce-f93d-4a51-a978-c5b4dc6684e4"
   },
   "outputs": [
    {
     "name": "stderr",
     "output_type": "stream",
     "text": [
      "/usr/local/lib/python3.7/dist-packages/ipykernel_launcher.py:14: DeprecationWarning: Passing transport options in the API method is deprecated. Use 'Elasticsearch.options()' instead.\n",
      "  \n"
     ]
    },
    {
     "name": "stdout",
     "output_type": "stream",
     "text": [
      "(24404, [])\n"
     ]
    }
   ],
   "source": [
    "load_data_to_elastic(es,data_tmp,sc_index_name_v1)"
   ]
  },
  {
   "cell_type": "markdown",
   "metadata": {
    "id": "0rSPVG7-BUk2"
   },
   "source": [
    "For this part, Copy your TODO part from the previous section to the cell bellow. Add another generator to the `direct_generator` part and use the index of reversed tokens that you have defined in the previous step. \n",
    "\n",
    "Hint: Use `pre_filter` and `post_filter` in your new generator. See [Direct Generators](https://www.elastic.co/guide/en/elasticsearch/reference/current/search-suggesters.html#_direct_generators)"
   ]
  },
  {
   "cell_type": "code",
   "execution_count": null,
   "metadata": {
    "id": "vWieuZUwBUk2"
   },
   "outputs": [],
   "source": [
    "def get_suggestions_v1(text , index_name):\n",
    "    resp = es.search(index=index_name,suggest={\n",
    "        \"text\": text,\n",
    "        \"simple_phrase\": {\n",
    "            \"phrase\": {\n",
    "                \"smoothing\" : {\n",
    "                    \"laplace\": {\n",
    "                        \"alpha\": 0.7\n",
    "                    }\n",
    "                },\n",
    "                \"field\": \"content_title.trigram\",\n",
    "                \"size\": 5,\n",
    "                \"confidence\": 0.75,\n",
    "                \"real_word_error_likelihood\": 0.9,\n",
    "                \"max_errors\" : 2,\n",
    "                \"direct_generator\": [ \n",
    "                    {\n",
    "                        \"field\": \"content_title\",\n",
    "                        \"prefix_length\": 2,\n",
    "                    }, \n",
    "                    {\n",
    "                        \"field\": \"content_title.reverse\",\n",
    "                        \"pre_filter\": \"reverse\",\n",
    "                        \"post_filter\": \"reverse\" \n",
    "                    }\n",
    "                ]\n",
    "            }\n",
    "        }\n",
    "    },size=5)\n",
    "    return dict(resp)"
   ]
  },
  {
   "cell_type": "code",
   "execution_count": null,
   "metadata": {
    "colab": {
     "base_uri": "https://localhost:8080/"
    },
    "id": "EpUAiKI6BUk2",
    "outputId": "466d76cc-f9e7-4ef0-e783-8f9f9c37808b"
   },
   "outputs": [
    {
     "name": "stdout",
     "output_type": "stream",
     "text": [
      "[{'text': 'لیک برتر فوطبال', 'offset': 0, 'length': 15, 'options': [{'text': 'لیک برتر فوبال', 'score': 1.3103538e-07}, {'text': 'لیک برتر فوطبال', 'score': 1.3103538e-07}, {'text': 'لیک برتر فوتسال', 'score': 1.3067393e-07}, {'text': 'لیک برتر فوتبال', 'score': 1.304862e-07}, {'text': 'لیک برتر فوتبالش', 'score': 1.1502317e-07}]}]\n",
      "========================\n",
      "[{'text': 'تورنومنت شش جانبه', 'offset': 0, 'length': 17, 'options': [{'text': 'تورنومنت شش جانبه', 'score': 1.6018531e-07}]}]\n",
      "========================\n",
      "[{'text': 'طبعیض نژادی', 'offset': 0, 'length': 11, 'options': [{'text': 'تبعیض نژادی', 'score': 0.0002320978}, {'text': 'طبیعی نژادی', 'score': 0.00012165715}, {'text': 'طبیعت نژادی', 'score': 4.3336455e-05}, {'text': 'طبعاً نژادی', 'score': 2.6201731e-05}, {'text': 'طبعی نژادی', 'score': 1.0193491e-05}]}]\n",
      "========================\n",
      "[{'text': 'اردوی طیم امیذ', 'offset': 0, 'length': 14, 'options': [{'text': 'اردوی طیم امیذ', 'score': 1.7475584e-06}, {'text': 'اردوی طیم امید', 'score': 1.6145211e-06}, {'text': 'اردوی طیم امیر', 'score': 1.6145211e-06}, {'text': 'اردوی طیم امیل', 'score': 1.6145211e-06}, {'text': 'اردوی طیم امین', 'score': 1.6145211e-06}]}]\n",
      "========================\n",
      "[{'text': 'جام ملب های آشیا', 'offset': 0, 'length': 16, 'options': [{'text': 'جام ملب های آشیا', 'score': 4.1462343e-08}, {'text': 'جام ملب های آشنا', 'score': 4.1461288e-08}, {'text': 'جام ملب های آسیا', 'score': 4.126261e-08}, {'text': 'جام ملب های آشیل', 'score': 3.8304943e-08}, {'text': 'جام ملب های آشوب', 'score': 3.21211e-08}]}]\n",
      "========================\n",
      "[{'text': 'کنره سیاسی آمریکا', 'offset': 0, 'length': 17, 'options': [{'text': 'کنگره سیاسی آمریکا', 'score': 1.0196505e-06}, {'text': 'کناره سیاسی آمریکا', 'score': 7.324639e-07}, {'text': 'کاره سیاسی آمریکا', 'score': 6.522158e-07}, {'text': 'کوره سیاسی آمریکا', 'score': 4.7271809e-07}, {'text': 'کنده سیاسی آمریکا', 'score': 3.7945944e-07}]}]\n",
      "========================\n",
      "[{'text': 'انغلاب اشلامی ایران', 'offset': 0, 'length': 19, 'options': [{'text': 'انقلاب اسلامی ایران', 'score': 0.0014453017}, {'text': 'انقلاب اشلامی ایران', 'score': 4.3850387e-06}, {'text': 'انقلاب اعلامی ایران', 'score': 4.3850387e-06}, {'text': 'انقلاب اشخاصی ایران', 'score': 3.849197e-06}, {'text': 'انقلاب اشغالی ایران', 'score': 3.849197e-06}]}]\n",
      "========================\n",
      "[{'text': 'فدراصیون فوتبال ایران', 'offset': 0, 'length': 21, 'options': [{'text': 'فدراسیون فوتبال ایران', 'score': 0.0006284756}, {'text': 'فدارسیون فوتبال ایران', 'score': 2.2543863e-06}, {'text': 'فدراسیونی فوتبال ایران', 'score': 4.532279e-07}, {'text': 'فدراسیونِ فوتبال ایران', 'score': 1.6745982e-07}, {'text': 'فدراصیون فوتبال ایران', 'score': 8.7961325e-08}]}]\n",
      "========================\n",
      "[{'text': 'لایهه مجلص خبرگان', 'offset': 0, 'length': 17, 'options': [{'text': 'لایحه مجلس خبرگان', 'score': 4.1598673e-06}, {'text': 'لایحه مجلص خبرگان', 'score': 3.0754086e-06}, {'text': 'لایحه مخلص خبرگان', 'score': 3.0754086e-06}, {'text': 'لایحه مشخص خبرگان', 'score': 3.0754086e-06}, {'text': 'لایحه مجاز خبرگان', 'score': 2.3825355e-06}]}]\n",
      "========================\n",
      "[{'text': 'نحبگان دانشگاهی', 'offset': 0, 'length': 15, 'options': [{'text': 'نخبگان دانشگاهی', 'score': 0.0005145904}, {'text': 'ناوگان دانشگاهی', 'score': 6.878094e-05}, {'text': 'نگبهان دانشگاهی', 'score': 1.7158665e-05}, {'text': 'ونخبگان دانشگاهی', 'score': 1.622059e-05}, {'text': 'نبخگان دانشگاهی', 'score': 1.3488265e-05}]}]\n",
      "========================\n",
      "[{'text': 'نمایند مجل', 'offset': 0, 'length': 10, 'options': [{'text': 'نمایند مجل', 'score': 0.000108002656}]}]\n",
      "========================\n",
      "[{'text': 'فضاسازی کازب', 'offset': 0, 'length': 12, 'options': [{'text': 'فضاسازی کاذب', 'score': 9.969191e-05}, {'text': 'فضاسازی صاحب', 'score': 6.781163e-05}, {'text': 'فضاسازی کاتب', 'score': 6.781163e-05}, {'text': 'فضاسازی کازب', 'score': 6.781163e-05}, {'text': 'فضاسازی کاسب', 'score': 6.781163e-05}]}]\n",
      "========================\n",
      "[{'text': 'صلاح ایرادات شورای تگهبان', 'offset': 0, 'length': 25, 'options': [{'text': 'صلاح ایرادات شورای نگهبان', 'score': 7.461805e-08}, {'text': 'صلاح ایرادات شورای ترهبون', 'score': 1.4062835e-08}, {'text': 'صلاح ایرادات شورای تگهبان', 'score': 1.4062835e-08}, {'text': 'صلاح ایرادات شورای راهبان', 'score': 1.4062835e-08}, {'text': 'صلاح ایرادات شورای نگهیان', 'score': 1.4062478e-08}]}]\n",
      "========================\n",
      "[{'text': 'تهریف های تاریخی', 'offset': 0, 'length': 16, 'options': [{'text': 'تهدید های تاریخی', 'score': 3.615313e-06}, {'text': 'تحریف های تاریخی', 'score': 3.101049e-06}, {'text': 'تهران های تاریخی', 'score': 3.022422e-06}, {'text': 'تعریف های تاریخی', 'score': 2.8747859e-06}, {'text': 'تکلیف های تاریخی', 'score': 1.930148e-06}]}]\n",
      "========================\n",
      "[{'text': 'قلیت های دینی', 'offset': 0, 'length': 13, 'options': [{'text': 'اقلیت های دینی', 'score': 1.4593702e-05}, {'text': 'بلیت های دینی', 'score': 2.7856315e-06}, {'text': 'قلی های دینی', 'score': 6.5676846e-07}, {'text': 'قلبی های دینی', 'score': 6.2185336e-07}, {'text': 'کلیت های دینی', 'score': 5.4535354e-07}]}]\n",
      "========================\n",
      "[{'text': 'تدارکان لازم', 'offset': 0, 'length': 12, 'options': [{'text': 'تدارک لازم', 'score': 0.00012313096}, {'text': 'تدارکات لازم', 'score': 7.18837e-05}, {'text': 'تدارکاتی لازم', 'score': 6.663952e-05}, {'text': 'دادکان لازم', 'score': 1.8657624e-05}, {'text': 'تدارکی لازم', 'score': 1.3575936e-05}]}]\n",
      "========================\n"
     ]
    }
   ],
   "source": [
    "for text in texts:\n",
    "    print(get_suggestions_v1(text,sc_index_name_v1 )['suggest']['simple_phrase'])\n",
    "    print(\"========================\")"
   ]
  },
  {
   "cell_type": "markdown",
   "metadata": {
    "id": "1kLsCnvwBUk3"
   },
   "source": [
    "### Section Three\n",
    "Sometimes, using a synonym of a term in a query will lead to better results. For instance, for the query ***captain usq*** we might generate a candidate ***usa*** for the term \n",
    "**usq**, which is a synonym for ***america***. This allows us to present ***captain america*** to the user if this phrase scores high enough. To begin with, for the mapping phase, copy your mappings and settings from the previous section and add another analyzer that maps a term to its synonyms. See [Synonym token filter](https://www.elastic.co/guide/en/elasticsearch/reference/current/analysis-synonym-tokenfilter.html). We have provided the required mappings for you in the file `synonyms.txt`. You should place the file in the directory of Elasticsearch and set the value of `sysnonyms_path` to `synonyms.txt`."
   ]
  },
  {
   "cell_type": "code",
   "execution_count": 17,
   "metadata": {
    "colab": {
     "base_uri": "https://localhost:8080/"
    },
    "id": "5w2BqyppCqhy",
    "outputId": "3283f51f-472b-482a-8ddd-2e336c9fcf04"
   },
   "outputs": [
    {
     "name": "stdout",
     "output_type": "stream",
     "text": [
      "ابا => امتناع, انکار, حاشا\n"
     ]
    }
   ],
   "source": [
    "synonyms_list = []\n",
    "with open('synonyms.txt', 'r') as f:\n",
    "  synonyms_list = list(map(lambda x: x.replace('\\n', ''), f.readlines()[1:]))\n",
    "print(synonyms_list[1])"
   ]
  },
  {
   "cell_type": "code",
   "execution_count": 18,
   "metadata": {
    "id": "HRtElI9fBUk3"
   },
   "outputs": [],
   "source": [
    "sc_mapping_v2 = {\n",
    "  \"settings\": {\n",
    "    \"index\": {\n",
    "      \"number_of_shards\": 1,\n",
    "      \"analysis\": {\n",
    "        \"analyzer\": {\n",
    "          \"trigram\": {\n",
    "            \"type\": \"custom\",\n",
    "            \"tokenizer\": \"standard\",\n",
    "            \"char_filter\": [\n",
    "                \"zero_width_spaces\",\n",
    "            ],\n",
    "            \"filter\": [\n",
    "                \"lowercase\",\n",
    "                \"new_shingle\",\n",
    "            ]\n",
    "          },\n",
    "          \"reverse\": {\n",
    "              \"type\": \"custom\",\n",
    "              \"tokenizer\": \"standard\",\n",
    "              \"filter\": [\n",
    "                  \"lowercase\",\n",
    "                  \"reverse\",\n",
    "              ]\n",
    "          },\n",
    "          \"synonym\": {\n",
    "              \"tokenizer\": \"whitespace\",\n",
    "              \"filter\": [\n",
    "                  \"synonym\"\n",
    "              ]\n",
    "          }\n",
    "        },\n",
    "        \"char_filter\": {\n",
    "          \"zero_width_spaces\": {\n",
    "              \"type\": \"mapping\",\n",
    "              \"mappings\": [\n",
    "                  \"\\\\u200C=>\\\\u0020\",\n",
    "              ]\n",
    "          }\n",
    "        },\n",
    "        \"filter\": {\n",
    "          \"new_shingle\": {\n",
    "            \"type\": \"shingle\",\n",
    "            \"min_shingle_size\": 2,\n",
    "            \"max_shingle_size\": 3\n",
    "          }, \n",
    "          \"synonym\": {\n",
    "              \"type\": \"synonym\",\n",
    "              \"synonyms\": synonyms_list \n",
    "          }\n",
    "        }\n",
    "      }\n",
    "    }\n",
    "  },\n",
    "  \"mappings\": {\n",
    "    \"properties\": {\n",
    "      \"content_title\": {\n",
    "        \"type\": \"text\",\n",
    "        \"fields\": {\n",
    "          \"trigram\": {\n",
    "            \"type\": \"text\",\n",
    "            \"analyzer\": \"trigram\"\n",
    "          },\n",
    "          \"reverse\": {\n",
    "              \"type\": \"text\",\n",
    "              \"analyzer\": \"reverse\"\n",
    "          }\n",
    "        }\n",
    "      }\n",
    "    }\n",
    "  }\n",
    "}"
   ]
  },
  {
   "cell_type": "code",
   "execution_count": 19,
   "metadata": {
    "id": "YESu0UaOBUk3"
   },
   "outputs": [],
   "source": [
    "sc_index_name_v2 = 'ir_test_sc_v2'"
   ]
  },
  {
   "cell_type": "code",
   "execution_count": 20,
   "metadata": {
    "colab": {
     "base_uri": "https://localhost:8080/"
    },
    "id": "f1rd_QfCBUk3",
    "outputId": "dafbbe82-8809-4b12-866f-a526cb0b9365"
   },
   "outputs": [
    {
     "name": "stderr",
     "output_type": "stream",
     "text": [
      "/usr/local/lib/python3.7/dist-packages/ipykernel_launcher.py:6: DeprecationWarning: The 'body' parameter is deprecated and will be removed in a future version. Instead use individual parameters.\n",
      "  \n"
     ]
    },
    {
     "data": {
      "text/plain": [
       "ObjectApiResponse({'acknowledged': True, 'shards_acknowledged': True, 'index': 'ir_test_sc_v2'})"
      ]
     },
     "execution_count": 20,
     "metadata": {},
     "output_type": "execute_result"
    }
   ],
   "source": [
    "# Delete index if one does exist\n",
    "if es.indices.exists(index=sc_index_name_v2):\n",
    "    es.indices.delete(index=sc_index_name_v2)\n",
    "\n",
    "# Create index\n",
    "es.indices.create(index=sc_index_name_v2, body=sc_mapping_v2)"
   ]
  },
  {
   "cell_type": "code",
   "execution_count": 21,
   "metadata": {
    "colab": {
     "base_uri": "https://localhost:8080/"
    },
    "id": "Us-m7yfCBUk3",
    "outputId": "b7e6bb89-507f-41da-f52e-6340dd589b93"
   },
   "outputs": [
    {
     "name": "stderr",
     "output_type": "stream",
     "text": [
      "/usr/local/lib/python3.7/dist-packages/ipykernel_launcher.py:14: DeprecationWarning: Passing transport options in the API method is deprecated. Use 'Elasticsearch.options()' instead.\n",
      "  \n"
     ]
    },
    {
     "name": "stdout",
     "output_type": "stream",
     "text": [
      "(24404, [])\n"
     ]
    }
   ],
   "source": [
    "load_data_to_elastic(es,data_tmp,sc_index_name_v2)"
   ]
  },
  {
   "cell_type": "markdown",
   "metadata": {
    "id": "XuudAVWqBUk4"
   },
   "source": [
    "For this part, Copy your TODO part from the previous section to the cell bellow. Then define another cadidate generator and use your new analyzer. \n",
    "\n",
    "HINT: Use `post_filter` in your generator to map generated cadidate tokens to their synonyms."
   ]
  },
  {
   "cell_type": "code",
   "execution_count": 22,
   "metadata": {
    "id": "61ZBqu7fBUk4"
   },
   "outputs": [],
   "source": [
    "def get_suggestions_v2(text , index_name):\n",
    "    resp = es.search(index=index_name,suggest={\n",
    "        \"text\": text,\n",
    "        \"simple_phrase\": {\n",
    "            \"phrase\": {\n",
    "                \"smoothing\" : {\n",
    "                    \"laplace\": {\n",
    "                        \"alpha\": 0.7\n",
    "                    }\n",
    "                },\n",
    "                \"field\": \"content_title.trigram\",\n",
    "                \"size\": 5,\n",
    "                \"confidence\": 0.75,\n",
    "                \"real_word_error_likelihood\": 0.9,\n",
    "                \"max_errors\" : 2,\n",
    "                \"direct_generator\": [ \n",
    "                    {\n",
    "                        \"field\": \"content_title\",\n",
    "                        \"prefix_length\": 2,\n",
    "                    }, \n",
    "                    {\n",
    "                        \"field\": \"content_title.reverse\",\n",
    "                        \"pre_filter\": \"reverse\",\n",
    "                        \"post_filter\": \"reverse\" \n",
    "                    },\n",
    "                    {\n",
    "                        \"field\": \"content_title\",\n",
    "                        \"post_filter\": \"synonym\"\n",
    "                    }\n",
    "                ]\n",
    "            }\n",
    "        }\n",
    "    },size=5)\n",
    "    return dict(resp)"
   ]
  },
  {
   "cell_type": "code",
   "execution_count": 25,
   "metadata": {
    "colab": {
     "base_uri": "https://localhost:8080/"
    },
    "id": "SEBByqIwBUk4",
    "outputId": "dc99a6e2-adb2-4b67-c175-98be9f3a21ff"
   },
   "outputs": [
    {
     "name": "stdout",
     "output_type": "stream",
     "text": [
      "[{'text': 'لیک برتر فوطبال', 'offset': 0, 'length': 15, 'options': [{'text': 'لیک برتر فوطبال', 'score': 1.3103538e-07}, {'text': 'لیک برتر فوتبال', 'score': 1.2619695e-07}, {'text': 'لیک برتر فوبال', 'score': 1.2450114e-07}, {'text': 'لیک برتر فوتبالش', 'score': 1.1502317e-07}, {'text': 'لیک برتر فوتبالی', 'score': 1.1502317e-07}]}]\n",
      "====================================\n",
      "[{'text': 'تورنومنت شش جانبه', 'offset': 0, 'length': 17, 'options': [{'text': 'تورنومنت شش جانبه', 'score': 1.6018531e-07}]}]\n",
      "====================================\n",
      "[{'text': 'طبعیض نژادی', 'offset': 0, 'length': 11, 'options': [{'text': 'اصلی نژادی', 'score': 0.00024639}, {'text': 'طبیعی نژادی', 'score': 0.00012165715}, {'text': 'ذاتی نژادی', 'score': 4.4456046e-05}, {'text': 'جبلی نژادی', 'score': 4.071871e-05}, {'text': 'فطری نژادی', 'score': 2.2054988e-05}]}]\n",
      "====================================\n",
      "[{'text': 'اردوی طیم امیذ', 'offset': 0, 'length': 14, 'options': [{'text': 'اردوی طیم آرزو', 'score': 1.7475584e-06}, {'text': 'اردوی طیم امل', 'score': 1.7475584e-06}, {'text': 'اردوی طیم امیدواری', 'score': 1.7475584e-06}, {'text': 'اردوی طیم امیذ', 'score': 1.7475584e-06}, {'text': 'اردوی طیم انتظار', 'score': 1.7475584e-06}]}]\n",
      "====================================\n",
      "[{'text': 'جام ملب های آشیا', 'offset': 0, 'length': 16, 'options': [{'text': 'جام ملب های آس', 'score': 4.1462343e-08}, {'text': 'جام ملب های آسک', 'score': 4.1462343e-08}, {'text': 'جام ملب های آسیاب', 'score': 4.1462343e-08}, {'text': 'جام ملب های آشیا', 'score': 4.1462343e-08}, {'text': 'جام ملب های چرخاب', 'score': 4.1462343e-08}]}]\n",
      "====================================\n",
      "[{'text': 'کنره سیاسی آمریکا', 'offset': 0, 'length': 17, 'options': [{'text': 'موثر سیاسی آمریکا', 'score': 2.0007808e-06}, {'text': 'کنگره سیاسی آمریکا', 'score': 1.0196505e-06}, {'text': 'کارآمد سیاسی آمریکا', 'score': 9.609784e-07}, {'text': 'کنره سیاسی آمریکا', 'score': 8.9102386e-08}, {'text': 'دندانه سیاسی آمریکا', 'score': 8.8693234e-08}]}]\n",
      "====================================\n",
      "[{'text': 'انغلاب اشلامی ایران', 'offset': 0, 'length': 19, 'options': [{'text': 'انقلاب اسلامی ایران', 'score': 0.0013977927}, {'text': 'انقلاب اشلامی ایران', 'score': 4.3850387e-06}, {'text': 'انقلاب اعلامی ایران', 'score': 4.2408965e-06}, {'text': 'انقلاب اشخاصی ایران', 'score': 3.849197e-06}, {'text': 'انقلاب اشغالی ایران', 'score': 3.849197e-06}]}]\n",
      "====================================\n",
      "[{'text': 'فدراصیون فوتبال ایران', 'offset': 0, 'length': 21, 'options': [{'text': 'فدراسیون فوتبال ایران', 'score': 0.0006208334}, {'text': 'فدارسیون فوتبال ایران', 'score': 2.0827654e-06}, {'text': 'فدراسیونی فوتبال ایران', 'score': 4.532279e-07}, {'text': 'فدراسیونِ فوتبال ایران', 'score': 1.6745982e-07}, {'text': 'فدراصیون فوتبال ایران', 'score': 8.7961325e-08}]}]\n",
      "====================================\n",
      "[{'text': 'لایهه مجلص خبرگان', 'offset': 0, 'length': 17, 'options': [{'text': 'لایحه انجمن خبرگان', 'score': 5.2516957e-06}, {'text': 'لایحه جرگه خبرگان', 'score': 2.9220496e-06}, {'text': 'لایحه جلسه خبرگان', 'score': 2.9220496e-06}, {'text': 'لایحه حله خبرگان', 'score': 2.9220496e-06}, {'text': 'لایحه لجنه خبرگان', 'score': 2.9220496e-06}]}]\n",
      "====================================\n",
      "[{'text': 'نحبگان دانشگاهی', 'offset': 0, 'length': 15, 'options': [{'text': 'نخبگان دانشگاهی', 'score': 0.0005145904}, {'text': 'خبرگان دانشگاهی', 'score': 9.118535e-05}, {'text': 'برگزیدگان دانشگاهی', 'score': 2.8489276e-05}, {'text': 'اعیان دانشگاهی', 'score': 2.0907726e-05}, {'text': 'زبدگان دانشگاهی', 'score': 1.3263181e-05}]}]\n",
      "====================================\n",
      "[{'text': 'نمایند مجل', 'offset': 0, 'length': 10, 'options': [{'text': 'نمایند مجل', 'score': 0.000108002656}]}]\n",
      "====================================\n",
      "[{'text': 'فضاسازی کازب', 'offset': 0, 'length': 12, 'options': [{'text': 'فضاسازی کاذب', 'score': 9.969191e-05}, {'text': 'فضاسازی دروغگو', 'score': 6.781163e-05}, {'text': 'فضاسازی دروغ\\u200cپرداز', 'score': 6.781163e-05}, {'text': 'فضاسازی صاحب', 'score': 6.781163e-05}, {'text': 'فضاسازی کازب', 'score': 6.781163e-05}]}]\n",
      "====================================\n",
      "[{'text': 'صلاح ایرادات شورای تگهبان', 'offset': 0, 'length': 25, 'options': [{'text': 'صلاح ایرادات شورای نگهبان', 'score': 7.461805e-08}, {'text': 'صلاح ایرادات شورای تگهبان', 'score': 1.4062835e-08}, {'text': 'صلاح ایرادات شورای راهبان', 'score': 1.4062835e-08}, {'text': 'صلاح ایرادات شورای نگبهان', 'score': 1.4061405e-08}, {'text': 'صلاح ایرادات شورای ترهبون', 'score': 1.234439e-08}]}]\n",
      "====================================\n",
      "[{'text': 'تهریف های تاریخی', 'offset': 0, 'length': 16, 'options': [{'text': 'تهران های تاریخی', 'score': 3.022422e-06}, {'text': 'وقایع های تاریخی', 'score': 6.6397365e-07}, {'text': 'تاریخچه های تاریخی', 'score': 4.3486003e-07}, {'text': 'سرگذشت های تاریخی', 'score': 2.8706725e-07}, {'text': 'تهریف های تاریخی', 'score': 8.9039084e-08}]}]\n",
      "====================================\n",
      "[{'text': 'قلیت های دینی', 'offset': 0, 'length': 13, 'options': [{'text': 'اقلیت های دینی', 'score': 1.4593702e-05}, {'text': 'بلیت های دینی', 'score': 2.7856315e-06}, {'text': 'قلی های دینی', 'score': 6.5676846e-07}, {'text': 'قلبی های دینی', 'score': 6.2185336e-07}, {'text': 'کلیت های دینی', 'score': 5.4535354e-07}]}]\n",
      "====================================\n",
      "[{'text': 'تدارکان لازم', 'offset': 0, 'length': 12, 'options': [{'text': 'آمادگی لازم', 'score': 0.0008263098}, {'text': 'تامین لازم', 'score': 0.00020941473}, {'text': 'تحصیل لازم', 'score': 9.1801245e-05}, {'text': 'تجهیز لازم', 'score': 6.7502886e-05}, {'text': 'تدارکاتی لازم', 'score': 6.663952e-05}]}]\n",
      "====================================\n"
     ]
    }
   ],
   "source": [
    "for text in texts:\n",
    "    print(get_suggestions_v2(text,sc_index_name_v2 )['suggest']['simple_phrase'])\n",
    "    print(\"====================================\")"
   ]
  }
 ],
 "metadata": {
  "colab": {
   "name": "Spelling_Correction.ipynb",
   "provenance": []
  },
  "kernelspec": {
   "display_name": "Python 3 (ipykernel)",
   "language": "python",
   "name": "python3"
  },
  "language_info": {
   "codemirror_mode": {
    "name": "ipython",
    "version": 3
   },
   "file_extension": ".py",
   "mimetype": "text/x-python",
   "name": "python",
   "nbconvert_exporter": "python",
   "pygments_lexer": "ipython3",
   "version": "3.10.4"
  }
 },
 "nbformat": 4,
 "nbformat_minor": 1
}
