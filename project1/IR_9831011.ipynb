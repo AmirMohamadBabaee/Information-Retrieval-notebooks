{
 "cells": [
  {
   "cell_type": "markdown",
   "id": "ba9d9b6e",
   "metadata": {},
   "source": [
    "# Information Retrieval Project (Phase 1)"
   ]
  },
  {
   "cell_type": "markdown",
   "id": "de687bac",
   "metadata": {},
   "source": [
    "## import libraries"
   ]
  },
  {
   "cell_type": "code",
   "execution_count": 1,
   "id": "089d3bfc",
   "metadata": {},
   "outputs": [],
   "source": [
    "import os\n",
    "import json\n",
    "import pickle\n",
    "import re\n",
    "import math\n",
    "import numpy as np\n",
    "import matplotlib.pyplot as plt\n",
    "from string import punctuation\n",
    "from sklearn.linear_model import LinearRegression\n",
    "from parsivar import Normalizer, Tokenizer, FindStems"
   ]
  },
  {
   "cell_type": "markdown",
   "id": "1f647e1b",
   "metadata": {},
   "source": [
    "### Structure of dataset\n",
    "- dataset \n",
    "    - docID\n",
    "        - title\n",
    "        - content\n",
    "        - tags\n",
    "        - date\n",
    "        - url\n",
    "        - category"
   ]
  },
  {
   "cell_type": "markdown",
   "id": "b5cfc204",
   "metadata": {},
   "source": [
    "## Load Dataset"
   ]
  },
  {
   "cell_type": "code",
   "execution_count": 2,
   "id": "b36ba4ef",
   "metadata": {},
   "outputs": [],
   "source": [
    "docs_path = './IR_data_news_12k.json'\n",
    "\n",
    "def load_docs(docs_path):\n",
    "    result = {}\n",
    "    with open(docs_path) as f:\n",
    "        docs = json.load(f)\n",
    "        for docID, body in docs.items():\n",
    "            result[docID] = {}\n",
    "            result[docID]['title'] = body['title']\n",
    "            result[docID]['content'] = body['content']\n",
    "            result[docID]['url'] = body['url']\n",
    "    return result\n",
    "\n",
    "docs = load_docs(docs_path)"
   ]
  },
  {
   "cell_type": "markdown",
   "id": "91968765",
   "metadata": {},
   "source": [
    "## Preprocess Data"
   ]
  },
  {
   "cell_type": "markdown",
   "id": "4938ac7d",
   "metadata": {},
   "source": [
    "### Remove Punctuation\n",
    "<div dir=\"rtl\">\n",
    "    حذف علائم نگارشی موجود در زبان برای جلوگیری از ورود آنها به دیکشنری\n",
    "</div>"
   ]
  },
  {
   "cell_type": "code",
   "execution_count": 3,
   "id": "2e936f31",
   "metadata": {},
   "outputs": [
    {
     "name": "stdout",
     "output_type": "stream",
     "text": [
      "به گزارش ایسنا سمینار شیمی آلی از امروز ۱۱ شهریور ۱۳۹۶ در دانشگاه علم و صنعت ایران آغاز به کار کرد این سمینار تا ۱۳ شهریور ادامه می یابد\n"
     ]
    }
   ],
   "source": [
    "tmp_sentence = 'به گزارش ایسنا سمینار شیمی آلی از امروز ۱۱ شهریور ۱۳۹۶ در دانشگاه علم و صنعت ایران آغاز به کار کرد. این سمینار تا ۱۳ شهریور ادامه می یابد.'\n",
    "\n",
    "pure_sentence = re.sub(f'[{punctuation}؟،٪×÷»«]+', '', tmp_sentence)\n",
    "print(pure_sentence)"
   ]
  },
  {
   "cell_type": "markdown",
   "id": "fdb26cb4",
   "metadata": {},
   "source": [
    "### Normalize Text\n",
    "<div dir=\"rtl\">\n",
    "    هم فرم و هم شکل کردن قسمت های مختلف تکست برای ایجاد توانایی مقایسه میان تکست های مختلف و قالب های متفاوت\n",
    "    <br>\n",
    "    برای مثال انگلیسی کردن تمامی اعداد\n",
    "</div>"
   ]
  },
  {
   "cell_type": "code",
   "execution_count": 4,
   "id": "166fbdf2",
   "metadata": {},
   "outputs": [
    {
     "name": "stdout",
     "output_type": "stream",
     "text": [
      "به گزارش ایسنا سمینار شیمی آلی از امروز 11 شهریور 1396 در دانشگاه علم و صنعت ایران آغاز به کار کرد این سمینار تا 13 شهریور ادامه می‌یابد\n"
     ]
    }
   ],
   "source": [
    "normalizer = Normalizer()\n",
    "normalized_sentence = normalizer.normalize(pure_sentence)\n",
    "print(normalized_sentence)"
   ]
  },
  {
   "cell_type": "markdown",
   "id": "0d72e6c2",
   "metadata": {},
   "source": [
    "### Tokenize Text\n",
    "<div dir=\"rtl\">\n",
    "    تبدیل متن به توکن ها\n",
    "</div>"
   ]
  },
  {
   "cell_type": "code",
   "execution_count": 5,
   "id": "b8322f7f",
   "metadata": {},
   "outputs": [
    {
     "name": "stdout",
     "output_type": "stream",
     "text": [
      "['به', 'گزارش', 'ایسنا', 'سمینار', 'شیمی', 'آلی', 'از', 'امروز', '11', 'شهریور', '1396', 'در', 'دانشگاه', 'علم', 'و', 'صنعت', 'ایران', 'آغاز', 'به', 'کار', 'کرد', 'این', 'سمینار', 'تا', '13', 'شهریور', 'ادامه', 'می\\u200cیابد']\n"
     ]
    }
   ],
   "source": [
    "tokenizer = Tokenizer()\n",
    "tokens = tokenizer.tokenize_words(normalized_sentence)\n",
    "print(tokens)"
   ]
  },
  {
   "cell_type": "markdown",
   "id": "eafea569",
   "metadata": {},
   "source": [
    "### Word Stemming\n",
    "<div dir=\"rtl\">\n",
    "    ریشه یابی کلمات موجود در متن. این کار باعث می شود که با تغییر شکل یک کلمه آن کلمه مجزا در نظر گرفته نشده و بتوان به شکل بهتری میزان تکرار آن کلمه در متن را به دست آورد.\n",
    "</div>"
   ]
  },
  {
   "cell_type": "code",
   "execution_count": 6,
   "id": "ad6b26d8",
   "metadata": {},
   "outputs": [
    {
     "name": "stdout",
     "output_type": "stream",
     "text": [
      "['به', 'گزارش', 'ایسنا', 'سمینار', 'شیمی', 'آلی', 'از', 'امروز', '11', 'شهریور', '1396', 'در', 'دانشگاه', 'علم', 'و', 'صنعت', 'ایران', 'آغاز', 'به', 'کار', 'کرد', 'این', 'سمینار', 'تا', '13', 'شهریور', 'ادامه', 'یافت&یاب']\n"
     ]
    }
   ],
   "source": [
    "stemmer = FindStems()\n",
    "stemmed_tokens = list(map(stemmer.convert_to_stem, tokens))\n",
    "print(stemmed_tokens)"
   ]
  },
  {
   "cell_type": "markdown",
   "id": "2bfd5087",
   "metadata": {},
   "source": [
    "### Remove Stopwords\n",
    "<div dir=\"rtl\">\n",
    "    حذف کلمات با تکرار زیاد. این کلمات با تکرار زیاد باعث جاگیری اضافه در دیکشنری و ایندکس شده و از آنجایی که در غالب سند ها نیز وجود دارند، در فرایند بازیابی سند کمک چندانی نمی کنند.\n",
    "</div>"
   ]
  },
  {
   "cell_type": "code",
   "execution_count": 7,
   "id": "47fa8e62",
   "metadata": {},
   "outputs": [],
   "source": [
    "persian_stopwords_path = './persian-stopwords.txt'\n",
    "\n",
    "def load_stopwords(stopwords_path):\n",
    "    stopwords_set = None\n",
    "    with open(stopwords_path, 'r') as f:\n",
    "        stopwords_set = set(f.read().split('\\n'))\n",
    "    return stopwords_set"
   ]
  },
  {
   "cell_type": "code",
   "execution_count": 8,
   "id": "630db888",
   "metadata": {},
   "outputs": [
    {
     "data": {
      "text/plain": [
       "{'آخرین',\n",
       " 'آقای',\n",
       " 'آمد',\n",
       " 'آمده',\n",
       " 'آمده_است',\n",
       " 'آن',\n",
       " 'آنان',\n",
       " 'آنجا',\n",
       " 'آنها',\n",
       " 'آنچه',\n",
       " 'آنکه',\n",
       " 'آورد',\n",
       " 'آوری',\n",
       " 'آیا',\n",
       " 'ابتدا',\n",
       " 'اثر',\n",
       " 'اجرا',\n",
       " 'اخیر',\n",
       " 'از',\n",
       " 'است',\n",
       " 'اش',\n",
       " 'اغلب',\n",
       " 'افراد',\n",
       " 'افرادی',\n",
       " 'افزود',\n",
       " 'البته',\n",
       " 'اما',\n",
       " 'امر',\n",
       " 'امکان',\n",
       " 'اند',\n",
       " 'او',\n",
       " 'اول',\n",
       " 'اولین',\n",
       " 'اکنون',\n",
       " 'اگر',\n",
       " 'ایشان',\n",
       " 'این',\n",
       " 'اینجا',\n",
       " 'اینکه',\n",
       " 'با',\n",
       " 'بار',\n",
       " 'باره',\n",
       " 'باز',\n",
       " 'باشد',\n",
       " 'باشند',\n",
       " 'باعث',\n",
       " 'بالا',\n",
       " 'باید',\n",
       " 'بخش',\n",
       " 'بخشی',\n",
       " 'بدون',\n",
       " 'بر',\n",
       " 'برابر',\n",
       " 'براساس',\n",
       " 'برای',\n",
       " 'برخی',\n",
       " 'برداری',\n",
       " 'بروز',\n",
       " 'بزرگ',\n",
       " 'بسیار',\n",
       " 'بسیاری',\n",
       " 'بعد',\n",
       " 'بعضی',\n",
       " 'بلکه',\n",
       " 'بنابراین',\n",
       " 'بندی',\n",
       " 'به',\n",
       " 'بهتر',\n",
       " 'بهترین',\n",
       " 'بود',\n",
       " 'بودن',\n",
       " 'بودند',\n",
       " 'بوده',\n",
       " 'بوده_است',\n",
       " 'بی',\n",
       " 'بیان',\n",
       " 'بیرون',\n",
       " 'بیش',\n",
       " 'بیشتر',\n",
       " 'بیشتری',\n",
       " 'بین',\n",
       " 'تا',\n",
       " 'تاکنون',\n",
       " 'تبدیل',\n",
       " 'تحت',\n",
       " 'ترتیب',\n",
       " 'تعداد',\n",
       " 'تعیین',\n",
       " 'تغییر',\n",
       " 'تمام',\n",
       " 'تمامی',\n",
       " 'تنها',\n",
       " 'تهیه',\n",
       " 'تو',\n",
       " 'جا',\n",
       " 'جاری',\n",
       " 'جای',\n",
       " 'جایی',\n",
       " 'جدی',\n",
       " 'جدید',\n",
       " 'جریان',\n",
       " 'جز',\n",
       " 'جمع',\n",
       " 'جمعی',\n",
       " 'حال',\n",
       " 'حالا',\n",
       " 'حالی',\n",
       " 'حتی',\n",
       " 'حد',\n",
       " 'حداقل',\n",
       " 'حدود',\n",
       " 'حل',\n",
       " 'خاص',\n",
       " 'خاطرنشان',\n",
       " 'خصوص',\n",
       " 'خطر',\n",
       " 'خواهد_بود',\n",
       " 'خواهد_شد',\n",
       " 'خواهد_کرد',\n",
       " 'خوب',\n",
       " 'خوبی',\n",
       " 'خود',\n",
       " 'خودش',\n",
       " 'خویش',\n",
       " 'خیلی',\n",
       " 'داد',\n",
       " 'دادن',\n",
       " 'دادند',\n",
       " 'داده',\n",
       " 'داده_است',\n",
       " 'دار',\n",
       " 'دارای',\n",
       " 'دارد',\n",
       " 'دارند',\n",
       " 'داریم',\n",
       " 'داشت',\n",
       " 'داشتن',\n",
       " 'داشتند',\n",
       " 'داشته',\n",
       " 'داشته_است',\n",
       " 'داشته_باشد',\n",
       " 'داشته_باشند',\n",
       " 'دانست',\n",
       " 'در',\n",
       " 'درباره',\n",
       " 'درون',\n",
       " 'دسته',\n",
       " 'دهد',\n",
       " 'دهند',\n",
       " 'دهه',\n",
       " 'دو',\n",
       " 'دوباره',\n",
       " 'دور',\n",
       " 'دوم',\n",
       " 'دچار',\n",
       " 'دیگر',\n",
       " 'دیگران',\n",
       " 'دیگری',\n",
       " 'را',\n",
       " 'راه',\n",
       " 'رسید',\n",
       " 'رسیدن',\n",
       " 'رشد',\n",
       " 'رفت',\n",
       " 'رو',\n",
       " 'روبه',\n",
       " 'روش',\n",
       " 'روند',\n",
       " 'روی',\n",
       " 'ریزی',\n",
       " 'زاده',\n",
       " 'زیاد',\n",
       " 'زیادی',\n",
       " 'زیر',\n",
       " 'زیرا',\n",
       " 'ساز',\n",
       " 'سازی',\n",
       " 'ساله',\n",
       " 'سالهای',\n",
       " 'سال\\u200cهای',\n",
       " 'سایر',\n",
       " 'سبب',\n",
       " 'سراسر',\n",
       " 'سعی',\n",
       " 'سمت',\n",
       " 'سه',\n",
       " 'سهم',\n",
       " 'سوم',\n",
       " 'سوی',\n",
       " 'سپس',\n",
       " 'سی',\n",
       " 'شامل',\n",
       " 'شان',\n",
       " 'شاید',\n",
       " 'شخصی',\n",
       " 'شد',\n",
       " 'شدن',\n",
       " 'شدند',\n",
       " 'شده',\n",
       " 'شده_است',\n",
       " 'شده_اند',\n",
       " 'شده_بود',\n",
       " 'شروع',\n",
       " 'شش',\n",
       " 'شما',\n",
       " 'شمار',\n",
       " 'شود',\n",
       " 'شوند',\n",
       " 'صرف',\n",
       " 'ضمن',\n",
       " 'طبق',\n",
       " 'طرف',\n",
       " 'طور',\n",
       " 'طول',\n",
       " 'طی',\n",
       " 'ع',\n",
       " 'عالی',\n",
       " 'عدم',\n",
       " 'علاوه',\n",
       " 'علت',\n",
       " 'علیه',\n",
       " 'عهده',\n",
       " 'عین',\n",
       " 'غیر',\n",
       " 'فرد',\n",
       " 'فردی',\n",
       " 'فقط',\n",
       " 'فوق',\n",
       " 'فکر',\n",
       " 'قابل',\n",
       " 'قبل',\n",
       " 'لازم',\n",
       " 'لحاظ',\n",
       " 'لذا',\n",
       " 'ما',\n",
       " 'مانند',\n",
       " 'متاسفانه',\n",
       " 'متر',\n",
       " 'متفاوت',\n",
       " 'مثل',\n",
       " 'محسوب',\n",
       " 'مدت',\n",
       " 'مربوط',\n",
       " 'مشخص',\n",
       " 'ممکن',\n",
       " 'من',\n",
       " 'مناسب',\n",
       " 'منظور',\n",
       " 'مهم',\n",
       " 'مواجه',\n",
       " 'موجب',\n",
       " 'مورد',\n",
       " 'می',\n",
       " 'میان',\n",
       " 'می\\u200cآید',\n",
       " 'می\\u200cباشد',\n",
       " 'می\\u200cتوان',\n",
       " 'می\\u200cتواند',\n",
       " 'می\\u200cتوانند',\n",
       " 'می\\u200cدهد',\n",
       " 'می\\u200cدهند',\n",
       " 'می\\u200cرسد',\n",
       " 'می\\u200cرود',\n",
       " 'می\\u200cشد',\n",
       " 'می\\u200cشود',\n",
       " 'می\\u200cشوند',\n",
       " 'می\\u200cکرد',\n",
       " 'می\\u200cکردند',\n",
       " 'می\\u200cکند',\n",
       " 'می\\u200cکنم',\n",
       " 'می\\u200cکنند',\n",
       " 'می\\u200cکنیم',\n",
       " 'می\\u200cگوید',\n",
       " 'می\\u200cگویند',\n",
       " 'می\\u200cگیرد',\n",
       " 'می\\u200cیابد',\n",
       " 'ناشی',\n",
       " 'نباید',\n",
       " 'نبود',\n",
       " 'نحوه',\n",
       " 'نخست',\n",
       " 'نخستین',\n",
       " 'ندارد',\n",
       " 'ندارند',\n",
       " 'نزدیک',\n",
       " 'نسبت',\n",
       " 'نشست',\n",
       " 'نظر',\n",
       " 'نظیر',\n",
       " 'نمی\\u200cشود',\n",
       " 'نه',\n",
       " 'نوع',\n",
       " 'نوعی',\n",
       " 'نیاز',\n",
       " 'نیز',\n",
       " 'نیست',\n",
       " 'نیستند',\n",
       " 'نیمه',\n",
       " 'هایی',\n",
       " 'هر',\n",
       " 'هستند',\n",
       " 'هستیم',\n",
       " 'هم',\n",
       " 'همان',\n",
       " 'همه',\n",
       " 'همواره',\n",
       " 'همچنان',\n",
       " 'همچنین',\n",
       " 'همچون',\n",
       " 'همیشه',\n",
       " 'همین',\n",
       " 'هنوز',\n",
       " 'هنگام',\n",
       " 'هیچ',\n",
       " 'و',\n",
       " 'وارد',\n",
       " 'وجود',\n",
       " 'وقتی',\n",
       " 'ولی',\n",
       " 'وگو',\n",
       " 'وی',\n",
       " 'ویژه',\n",
       " 'پخش',\n",
       " 'پر',\n",
       " 'پس',\n",
       " 'پشت',\n",
       " 'پنج',\n",
       " 'پی',\n",
       " 'پیدا',\n",
       " 'پیش',\n",
       " 'چرا',\n",
       " 'چند',\n",
       " 'چنین',\n",
       " 'چه',\n",
       " 'چهار',\n",
       " 'چهارم',\n",
       " 'چون',\n",
       " 'چگونه',\n",
       " 'چیز',\n",
       " 'چیزی',\n",
       " 'کافی',\n",
       " 'کامل',\n",
       " 'کاملا',\n",
       " 'کدام',\n",
       " 'کرد',\n",
       " 'کردم',\n",
       " 'کردن',\n",
       " 'کردند',\n",
       " 'کرده',\n",
       " 'کرده_است',\n",
       " 'کرده_اند',\n",
       " 'کرده_بود',\n",
       " 'کسانی',\n",
       " 'کسی',\n",
       " 'کل',\n",
       " 'کلی',\n",
       " 'کم',\n",
       " 'کمی',\n",
       " 'کنار',\n",
       " 'کند',\n",
       " 'کنم',\n",
       " 'کنند',\n",
       " 'کننده',\n",
       " 'کنندگان',\n",
       " 'کنید',\n",
       " 'کنیم',\n",
       " 'که',\n",
       " 'کوچک',\n",
       " 'گاه',\n",
       " 'گذاری',\n",
       " 'گردد',\n",
       " 'گرفت',\n",
       " 'گرفته',\n",
       " 'گرفته_است',\n",
       " 'گروهی',\n",
       " 'گفت',\n",
       " 'گفته',\n",
       " 'گونه',\n",
       " 'گیرد',\n",
       " 'گیری',\n",
       " 'یا',\n",
       " 'یابد',\n",
       " 'یافت',\n",
       " 'یافته',\n",
       " 'یافته_است',\n",
       " 'یعنی',\n",
       " 'یک',\n",
       " 'یکدیگر',\n",
       " 'یکی'}"
      ]
     },
     "execution_count": 8,
     "metadata": {},
     "output_type": "execute_result"
    }
   ],
   "source": [
    "stopwords_set = load_stopwords(persian_stopwords_path)\n",
    "stopwords_set"
   ]
  },
  {
   "cell_type": "code",
   "execution_count": 9,
   "id": "cf05243b",
   "metadata": {},
   "outputs": [],
   "source": [
    "def remove_stopwords(words, persian_stopwords_path='./persian-stopwords.txt'):\n",
    "    persian_stopwords = load_stopwords(persian_stopwords_path)\n",
    "    return [word for word in words if word not in persian_stopwords]"
   ]
  },
  {
   "cell_type": "code",
   "execution_count": 10,
   "id": "6b830d23",
   "metadata": {},
   "outputs": [],
   "source": [
    "stemmed_tokens_without_stopwords = remove_stopwords(stemmed_tokens)"
   ]
  },
  {
   "cell_type": "code",
   "execution_count": 11,
   "id": "3a4108e8",
   "metadata": {},
   "outputs": [
    {
     "name": "stdout",
     "output_type": "stream",
     "text": [
      "total words with stopwords: 28\n",
      "total words without stopwords: 20\n"
     ]
    }
   ],
   "source": [
    "print(f'total words with stopwords: {len(stemmed_tokens)}')\n",
    "print(f'total words without stopwords: {len(remove_stopwords(stemmed_tokens_without_stopwords))}')"
   ]
  },
  {
   "cell_type": "markdown",
   "id": "1ddcb9c6",
   "metadata": {},
   "source": [
    "### Stacking These components to make a Pipeline"
   ]
  },
  {
   "cell_type": "code",
   "execution_count": 65,
   "id": "58a68085",
   "metadata": {},
   "outputs": [
    {
     "name": "stdout",
     "output_type": "stream",
     "text": [
      "['سلام', 'امروز', 'خواست&خواه', 'تابع', '3', 'امتحان', 'کرد&کن']\n"
     ]
    }
   ],
   "source": [
    "def preprocess(text, stopwords_remove=True, stemming=True):\n",
    "    normalizer = Normalizer()\n",
    "    tokenizer = Tokenizer()\n",
    "    stemmer = FindStems()\n",
    "    \n",
    "    pure_text = re.sub(f'[{punctuation}؟،٪×÷»«]+', '', text)\n",
    "    normal_text = normalizer.normalize(pure_text)\n",
    "    res = tokenizer.tokenize_words(normal_text)\n",
    "    if stemming:\n",
    "        res = list(map(stemmer.convert_to_stem, res))\n",
    "    if stopwords_remove:\n",
    "        res = remove_stopwords(res, persian_stopwords_path)\n",
    "    \n",
    "    return res\n",
    "\n",
    "print(preprocess('سلام من امروز می خواهم این تابع را ۳ بار امتحان کنم.'))"
   ]
  },
  {
   "cell_type": "code",
   "execution_count": 66,
   "id": "f08c9626",
   "metadata": {},
   "outputs": [],
   "source": [
    "def preprocess_contents(docs_dict, stopwords_remove=True, stemming=True):\n",
    "    normalizer = Normalizer()\n",
    "    tokenizer = Tokenizer()\n",
    "    stemmer = FindStems()\n",
    "    \n",
    "    for docID, body in docs_dict.items():\n",
    "        body['content'] = preprocess(body['content'], stopwords_remove, stemming)\n",
    "        \n",
    "    return docs_dict\n",
    "\n",
    "preprocessed_docs = preprocess_contents(load_docs(docs_path))"
   ]
  },
  {
   "cell_type": "markdown",
   "id": "ab1aea4f",
   "metadata": {},
   "source": [
    "## Indexing"
   ]
  },
  {
   "cell_type": "markdown",
   "id": "e03373a7",
   "metadata": {},
   "source": [
    "### Dictionary (Vocabulary)\n",
    "At first, we must create a dictionary of all words that have been seen in the docs."
   ]
  },
  {
   "cell_type": "code",
   "execution_count": 16,
   "id": "04e58f01",
   "metadata": {},
   "outputs": [],
   "source": [
    "def create_dictionary(docs):\n",
    "    dictionary = set()\n",
    "    for body in docs.values():\n",
    "        dictionary.update(body['content'])\n",
    "    return dictionary\n",
    "\n",
    "dictionary = create_dictionary(preprocessed_docs)"
   ]
  },
  {
   "cell_type": "markdown",
   "id": "e084f7cb",
   "metadata": {},
   "source": [
    "### Positional Index\n",
    "Structure of Index:\n",
    "- Token\n",
    "    - Total Appearance\n",
    "    - docs\n",
    "        - list of docs\n",
    "            - total incidences in every doc\n",
    "            - list of each position in every doc"
   ]
  },
  {
   "cell_type": "code",
   "execution_count": 31,
   "id": "9ac41c40",
   "metadata": {},
   "outputs": [
    {
     "name": "stdout",
     "output_type": "stream",
     "text": [
      "0 have been processed.\n",
      "1000 have been processed.\n",
      "2000 have been processed.\n",
      "3000 have been processed.\n",
      "4000 have been processed.\n",
      "5000 have been processed.\n",
      "6000 have been processed.\n",
      "7000 have been processed.\n",
      "8000 have been processed.\n",
      "9000 have been processed.\n",
      "10000 have been processed.\n",
      "11000 have been processed.\n",
      "12000 have been processed.\n"
     ]
    }
   ],
   "source": [
    "def create_index(docs):\n",
    "    dictionary = set()\n",
    "    index = {}\n",
    "    for docID, body in docs.items():\n",
    "        if int(docID) % 1000 == 0:\n",
    "            print(f'{int(docID)} have been processed.')\n",
    "        content = body['content']\n",
    "        for token_i in range(len(content)):\n",
    "            token = content[token_i]\n",
    "            if token not in dictionary:\n",
    "                dictionary.add(token)\n",
    "                index[token] = {\n",
    "                    'total_app': 1,\n",
    "                    'docs': [\n",
    "                        {\n",
    "                            docID:{\n",
    "                                'total_inc': 1,\n",
    "                                'position': [token_i,]\n",
    "                            }\n",
    "                        }\n",
    "                    ]\n",
    "                }\n",
    "            else:\n",
    "                index[token]['total_app'] += 1\n",
    "                \n",
    "                docs_ID = list(map(lambda x : list(x.keys())[0], index[token]['docs']))\n",
    "                docs_ID_set = set(map(lambda x : list(x.keys())[0], index[token]['docs']))\n",
    "                if docID not in docs_ID_set:\n",
    "                    index[token]['docs'].append({\n",
    "                        docID:{\n",
    "                            'total_inc': 1,\n",
    "                            'position': [token_i,]\n",
    "                        }\n",
    "                    })\n",
    "                else:\n",
    "                    doc_index = docs_ID.index(docID)\n",
    "                    index[token]['docs'][doc_index][docID]['total_inc'] += 1\n",
    "                    index[token]['docs'][doc_index][docID]['position'].append(token_i)\n",
    "    return index, dictionary\n",
    "\n",
    "index, dictionary = create_index(preprocessed_docs)"
   ]
  },
  {
   "cell_type": "code",
   "execution_count": 2,
   "id": "34b681e5",
   "metadata": {},
   "outputs": [],
   "source": [
    "def save_index(index, filename):\n",
    "    with open(filename, 'wb') as outp:  # Overwrites any existing file.\n",
    "        pickle.dump(index, outp, pickle.HIGHEST_PROTOCOL)\n",
    "        print(f'index saved in {filename}')\n",
    "    \n",
    "def load_index(filename):\n",
    "    index = None\n",
    "    with open(filename, 'rb') as inp:\n",
    "        index = pickle.load(inp)\n",
    "    return index"
   ]
  },
  {
   "cell_type": "code",
   "execution_count": 3,
   "id": "f723c995",
   "metadata": {},
   "outputs": [],
   "source": [
    "index = load_index('index_v2.pkl')\n",
    "dictionary = load_index('dictionary_v2.pkl')"
   ]
  },
  {
   "cell_type": "code",
   "execution_count": 4,
   "id": "b69e00a9",
   "metadata": {},
   "outputs": [
    {
     "data": {
      "text/plain": [
       "{'total_app': 34,\n",
       " 'docs': [{'2267': {'total_inc': 1, 'position': [338]}},\n",
       "  {'2511': {'total_inc': 1, 'position': [23]}},\n",
       "  {'2897': {'total_inc': 1, 'position': [131]}},\n",
       "  {'2980': {'total_inc': 1, 'position': [28]}},\n",
       "  {'3059': {'total_inc': 2, 'position': [105, 144]}},\n",
       "  {'3084': {'total_inc': 1, 'position': [45]}},\n",
       "  {'3131': {'total_inc': 1, 'position': [31]}},\n",
       "  {'3140': {'total_inc': 1, 'position': [53]}},\n",
       "  {'3241': {'total_inc': 1, 'position': [62]}},\n",
       "  {'3323': {'total_inc': 1, 'position': [60]}},\n",
       "  {'3334': {'total_inc': 1, 'position': [43]}},\n",
       "  {'3451': {'total_inc': 2, 'position': [43, 54]}},\n",
       "  {'3495': {'total_inc': 1, 'position': [281]}},\n",
       "  {'3567': {'total_inc': 1, 'position': [25]}},\n",
       "  {'3687': {'total_inc': 2, 'position': [25, 49]}},\n",
       "  {'3950': {'total_inc': 2, 'position': [175, 191]}},\n",
       "  {'4447': {'total_inc': 3, 'position': [196, 329, 346]}},\n",
       "  {'4939': {'total_inc': 2, 'position': [62, 112]}},\n",
       "  {'4945': {'total_inc': 2, 'position': [5, 81]}},\n",
       "  {'4951': {'total_inc': 2, 'position': [105, 124]}},\n",
       "  {'5134': {'total_inc': 1, 'position': [660]}},\n",
       "  {'5484': {'total_inc': 1, 'position': [69]}},\n",
       "  {'5781': {'total_inc': 1, 'position': [144]}},\n",
       "  {'5827': {'total_inc': 1, 'position': [157]}},\n",
       "  {'8002': {'total_inc': 1, 'position': [336]}}]}"
      ]
     },
     "execution_count": 4,
     "metadata": {},
     "output_type": "execute_result"
    }
   ],
   "source": [
    "index['معاوضه']"
   ]
  },
  {
   "cell_type": "markdown",
   "id": "cc0d6ad1",
   "metadata": {},
   "source": [
    "## Query Processing"
   ]
  },
  {
   "cell_type": "code",
   "execution_count": 87,
   "id": "36467369",
   "metadata": {},
   "outputs": [],
   "source": [
    "def process_query(query):\n",
    "    \n",
    "    intersect = set()\n",
    "    \n",
    "    query_index = dict()\n",
    "    exception_index = dict()\n",
    "    phrase_index = dict()\n",
    "    \n",
    "    token_docID = dict()\n",
    "    exception_token_docID = dict()\n",
    "    phrase_token_docID = dict()\n",
    "    \n",
    "    exception_tokens = list()\n",
    "    phrasal_tokens = list()\n",
    "    \n",
    "    # find tokens immediately after exclamation's mark\n",
    "    exception_tokens = re.findall(r'\\!\\s(\\w+)', query)\n",
    "    # find tokens in between double quotation\n",
    "    phrasal_tokens = re.findall(r'\"([^\"]*)\"', query)\n",
    "    # remove two types of tokens extracted before from main query\n",
    "    raw_tokens = re.sub(r'\\!\\s\\w+', '', query)\n",
    "    raw_tokens = re.sub(r'\"[^\"]*\"', '', raw_tokens)\n",
    "            \n",
    "#     print(raw_tokens)\n",
    "#     print(\" \".join(exception_tokens))\n",
    "#     print(\" \".join(phrasal_tokens))\n",
    "    \n",
    "    # preprocess each type of token in query\n",
    "    if len(raw_tokens):\n",
    "        preprocessed_query = preprocess(raw_tokens)\n",
    "        preprocessed_query = [token for token in preprocessed_query if token in dictionary]\n",
    "        raw_tokens = preprocessed_query\n",
    "    if len(exception_tokens) > 0:\n",
    "        preprocessed_exception = preprocess(\" \".join(exception_tokens))\n",
    "        preprocessed_exception = [token for token in preprocessed_exception if token in dictionary]\n",
    "        exception_tokens = preprocessed_exception\n",
    "    if len(phrasal_tokens):\n",
    "        preprocessed_phrasals = list()\n",
    "        for phrase in phrasal_tokens:\n",
    "            preprocessed_phrasals.append(preprocess(phrase))\n",
    "    \n",
    "    # separate docID related to extracted raw tokens\n",
    "    if len(raw_tokens):\n",
    "        for token in preprocessed_query:\n",
    "            query_index[token] = index[token]\n",
    "            token_docID[token] = set(map(lambda x: int(list(x.keys())[0]), index[token]['docs']))\n",
    "\n",
    "    # separate docID related to extracted negated tokens\n",
    "    if len(exception_tokens) > 0:\n",
    "        for token in preprocessed_exception:\n",
    "            exception_index = index[token]\n",
    "            exception_token_docID[token] = set(map(lambda x: int(list(x.keys())[0]), index[token]['docs']))\n",
    "            \n",
    "    if len(phrasal_tokens):\n",
    "        for phrase in preprocessed_phrasals:\n",
    "            phrase_token_docID[tuple(phrase)] = dict()\n",
    "            for token in phrase:\n",
    "                phrase_index = index[token]\n",
    "                phrase_token_docID[tuple(phrase)][token] = set(map(lambda x: int(list(x.keys())[0]), phrase_index['docs']))\n",
    "         \n",
    "#         print(phrase_token_docID)\n",
    "        phrase_docID = dict()\n",
    "        for phrase in preprocessed_phrasals:\n",
    "            phrase_docID[tuple(phrase)] = set()\n",
    "            phrase_intersect = phrase_token_docID[tuple(phrase)][phrase[0]]\n",
    "            for token in phrase:\n",
    "                phrase_intersect = phrase_intersect.intersection(phrase_token_docID[tuple(phrase)][token])\n",
    "            \n",
    "            for docID in list(phrase_intersect):\n",
    "#                 print(index[phrase[0]]['docs'])\n",
    "                sequential_position = None\n",
    "                for i in range(len(phrase)):\n",
    "                    current_token = phrase[i]\n",
    "                    for doc in index[current_token]['docs']:\n",
    "                        if int(list(doc.keys())[0]) == docID:\n",
    "                            current_position = set(doc[f'{docID}']['position'])\n",
    "                            if i == 0:\n",
    "                                sequential_position = current_position\n",
    "                                continue\n",
    "                            current_position = set(map(lambda x : x - i, current_position))\n",
    "                            sequential_position = sequential_position.intersection(current_position)\n",
    "                            \n",
    "                if len(sequential_position) > 0:\n",
    "                    phrase_docID[tuple(phrase)].add(docID)\n",
    "                    \n",
    "        final_phrase_docID = phrase_docID[tuple(preprocessed_phrasals[0])]\n",
    "        for phrase in preprocessed_phrasals:\n",
    "            final_phrase_docID = final_phrase_docID.intersection(phrase_docID[tuple(phrase)])\n",
    "                \n",
    "    if len(raw_tokens) > 0:\n",
    "        intersect = token_docID[preprocessed_query[0]]\n",
    "        for token in preprocessed_query:\n",
    "            intersect = intersect.intersection(token_docID[token])\n",
    "        \n",
    "    if len(phrasal_tokens) > 0:\n",
    "        if len(intersect) > 0:\n",
    "            intersect = intersect.intersection(final_phrase_docID)\n",
    "        else: \n",
    "            intersect = final_phrase_docID\n",
    "        \n",
    "    if len(exception_tokens) > 0:\n",
    "        for token in  preprocessed_exception:\n",
    "            intersect = intersect - exception_token_docID[token]\n",
    "            \n",
    "#     print(f'intersect: {intersect}')\n",
    "        \n",
    "    related_docID = list(intersect)\n",
    "#     print(related_docID)\n",
    "#     print(query_index)\n",
    "    related_docs = list()\n",
    "    for docID in related_docID:\n",
    "        total_token_inc = 0\n",
    "        if len(raw_tokens) > 0:\n",
    "            for token in preprocessed_query:\n",
    "                for doc in query_index[token]['docs']:\n",
    "                    if int(list(doc.keys())[0]) == docID:\n",
    "                        total_token_inc += doc[f'{docID}']['total_inc']\n",
    "        if len(phrasal_tokens) > 0:\n",
    "            for phrase in preprocessed_phrasals:\n",
    "                for token in phrase:\n",
    "                    for doc in index[token]['docs']:\n",
    "                        if int(list(doc.keys())[0]) == docID:\n",
    "                            total_token_inc += doc[f'{docID}']['total_inc']\n",
    "        related_docs.append((docID, total_token_inc))\n",
    "        \n",
    "    related_docs.sort(key=lambda x : x[1], reverse=True)\n",
    "        \n",
    "    return related_docs[:5]"
   ]
  },
  {
   "cell_type": "code",
   "execution_count": 79,
   "id": "2e8ab0a6",
   "metadata": {},
   "outputs": [],
   "source": [
    "def print_query_result(query, with_content=False):\n",
    "    res = process_query(query)\n",
    "    for doc, rank in res:\n",
    "        print(20*'*')\n",
    "        print(f'Rank: {rank}')\n",
    "        print(f'docID: {doc}')\n",
    "        print(f'Title: {docs[f\"{doc}\"][\"title\"]}')\n",
    "        print(f'URL: {docs[f\"{doc}\"][\"url\"]}')\n",
    "        if with_content:\n",
    "            print(f'{docs[f\"{doc}\"][\"content\"]}')\n",
    "        print(20*'*')"
   ]
  },
  {
   "cell_type": "markdown",
   "id": "a8b19f5a",
   "metadata": {},
   "source": [
    "# Sample Queries"
   ]
  },
  {
   "cell_type": "markdown",
   "id": "4969f2e3",
   "metadata": {},
   "source": [
    "## Query 1\n",
    "<div dir=\"rtl\">\n",
    "    تحریم‌های آمریکا علیه ایران\n",
    "</div>"
   ]
  },
  {
   "cell_type": "code",
   "execution_count": 88,
   "id": "e304d886",
   "metadata": {},
   "outputs": [
    {
     "name": "stdout",
     "output_type": "stream",
     "text": [
      "********************\n",
      "Rank: 169\n",
      "docID: 9742\n",
      "Title: مرکز پژوهش‌های مجلس: مذاکرات وین به توافقی زودهنگام منجر نمی‌شود\n",
      "URL: https://www.farsnews.ir/news/14000924000773/مرکز-پژوهش‌های-مجلس-مذاکرات-وین-به-توافقی-زودهنگام-منجر-نمی‌شود\n",
      "********************\n",
      "********************\n",
      "Rank: 149\n",
      "docID: 6929\n",
      "Title: توضیحات یک منبع آگاه درباره وقفه مذاکرات وین\n",
      "URL: https://www.farsnews.ir/news/14001222000450/توضیحات-یک-منبع-آگاه-درباره-وقفه-مذاکرات-وین\n",
      "********************\n",
      "********************\n",
      "Rank: 107\n",
      "docID: 11864\n",
      "Title: اهرم‌سازی از افغانستان در برجام/ نقطه عزیمت آمریکا در مذاکرات جامع با ایران چیست؟\n",
      "URL: https://www.farsnews.ir/news/14000803000676/اهرم‌سازی-از-افغانستان-در-برجام-نقطه-عزیمت-آمریکا-در-مذاکرات-جامع-با\n",
      "********************\n",
      "********************\n",
      "Rank: 95\n",
      "docID: 9496\n",
      "Title: گفت‌وگوی مشروح | ترقی: آمریکا شروط ایران را نپذیرد، پشت در مذاکرات می‌ماند/ روحانی کشور را به بن‌بست کشاند\n",
      "URL: https://www.farsnews.ir/news/14000926000385/گفت‌وگوی-مشروح-|-ترقی-آمریکا-شروط-ایران-را-نپذیرد-پشت-در-مذاکرات\n",
      "********************\n",
      "********************\n",
      "Rank: 87\n",
      "docID: 10757\n",
      "Title: راهبرد «مذاکره هسته‌ای نداریم» چگونه تأمین کننده منافع کشور خواهد بود؟/ غرب در دوراهی سخت\n",
      "URL: https://www.farsnews.ir/news/14000821000097/راهبرد-مذاکره-هسته‌ای-نداریم-چگونه-تأمین-کننده-منافع-کشور-خواهد-بود-\n",
      "********************\n"
     ]
    }
   ],
   "source": [
    "print_query_result('تحریم‌های آمریکا علیه ایران')"
   ]
  },
  {
   "cell_type": "markdown",
   "id": "89d1381f",
   "metadata": {},
   "source": [
    "docID = 9742\n",
    "<div dir=\"rtl\">\n",
    "    با گذشت نزدیک به یک سال از روی‌کار آمدن دولت بایدن، \n",
    "    <u>آمریکا</u>\n",
    "    به برجام بازنگشته و از رفع مؤثر تحریم‌‌ها خودداری می‌‌ورزد. ایده اصلی دولت بایدن این بود که با اعمال «فشار هوشمند» یا همان «ترکیب دیپلماسی و چندجانبه‌گرایی با کمپین فشار حداکثری» \n",
    "    <u>ایران</u>\n",
    "    را وادار به پذیرش «توافق قوی‌تر و طولانی‌تر» کند.  به همین دلیل، دولت بایدن بیش از آنکه به‌دنبال بازگشت فوری به برجام باشد در پی طراحی سازوکاری بود که چگونه می‌‌توان توافق هسته‌ای را به بستری برای دستیابی به تبدیل توافقی جامع برای مهار ایران کرد. تیم مذاکره‌کننده آمریکا با چنین هدفی در فروردین‌ماه 1400 وارد مذاکرات وین شد و پیش‌نویسی را برای گفتگو درباره دو موضوع اصلی مذاکره یعنی «تحریم» و « برنامه هسته‌‌ای» ارائه کرد که طبق آن از یکسو آمریکا با حفظ بخش مهمی از \n",
    "    <u>تحریم‌‌ها</u>\n",
    "    به‌دنبال استمرار اهرم فشار \n",
    "    <u>علیه</u>\n",
    "    ایران و ازسوی دیگر به بهانه «آستانه گریز یک‌ساله» خواستار محدودیت‌‌های فنی و نظارتی فرابرجامی ازجمله تخریب سانتریفیوژهای نسل جدید و زنجیره ساخت این ماشین‌‌ها بود.\n",
    "</div>"
   ]
  },
  {
   "cell_type": "markdown",
   "id": "2a0dfbda",
   "metadata": {},
   "source": [
    "docID = 6929\n",
    "<div dir=\"rtl\">\n",
    "    * <u>تحریم‌های آمریکا علیه ایران</u>\n",
    "\n",
    "آمریکا پس از تسخیر لانه‌ جاسوسی آمریکا در تهران، «کارتر» در تاریخ 8 نوامبر 1979م. با استناد به قانون‌ «کنترل صدور تسلیحات نظامی»، کشتی حامل‌ لوازم یدکی نظامی متعلق به ایران را توقیف کرد. ارزش این لوازم 300 میلیون دلار بود. با اوج‌گیری کشمکش‌های سیاسی بر سر مسئله‌ تصرف سفارت، دولت موقت، اعلام کرد تمام دارایی‌های‌ خود را از بانک‌های آمریکا خارج خواهد کرد. کارتر با لحاظ این احتمال، در کشور شرایط اضطراری اعلام کرد و با استناد به قانون شرایط اضطراری اقتصاد بین‌الملل (IEEPA) و قانون‌ شرایط اضطراری ملی (NEA)، با صدور دستور ویژه‌ی شماره‌ی (12170)، تمام دارایی‌های ایران در آمریکا را به تصرف خود درآورد.\n",
    "</div>"
   ]
  },
  {
   "cell_type": "markdown",
   "id": "93f32ac3",
   "metadata": {},
   "source": [
    "docID = 11864\n",
    "<div dir=\"rtl\">\n",
    "    FATF مشکل ما را حل نمی‌کرد بلکه مشکلات را بر ما رسوب می داد چون ما متاثر از \n",
    "    <u>تحریم‌های</u>\n",
    "    اولیه و ثانویه آمریکایی‌ها هستیم که نه به برجام ربطی دارد و نه بهFATF و هیچ سازمان بین المللی. یک تصمیم ملی داخلی ایالات متحده \n",
    "    <u>آمریکا</u>\n",
    "    برای \n",
    "    <u>ایران</u>\n",
    "    است تا تحریم‌ها را موثر بکنند.\n",
    "    <br>\n",
    "    ظهره وند: در آذربایجان هم این فضا را به وجود می آورند. ایران کشوری مادر است و عمق استراتژیک آن در محیط پیرامونی خودش و وسیع‌تر از جغرافیای طبیعی اش هست و امروز مردم منطقه متوجه ظرفیت ها و موقعیت ایران و هم‌راستایی در تهدید و فرصت با ایران هستند. این هم‌راستایی به یک تهدید معتبر \n",
    "    <u>علیه</u>\n",
    "    غرب تبدیل شده و آمریکایی ها اگر نتوانند ایران و چین را در افغانستان متوقف کنند دیگر نمی توانند در محیط داخلی خودشان هم منسجم شوند.\n",
    "</div>"
   ]
  },
  {
   "cell_type": "markdown",
   "id": "d4ba8602",
   "metadata": {},
   "source": [
    "docID = 9496\n",
    "<div dir=\"rtl\">\n",
    "    اکنون در مذاکرات وین، 4+1 به عنوان یک تیم بدعهد و بدهکار  جلوه می‌کند و \n",
    "    <u>ایران</u>\n",
    "    به عنوان کشوری که کاملاً به تمام تعهدات خود عمل کرده و طلبکار است و ابتکار عمل را در دست دارد، در مذاکرات دست بالاتر را به نمایش گذاشته است. به نظر می‌رسد اینها در وضعیت مذاکرات تأثیر قابل توجهی دارد و وقایعی که طی مدت خروج \n",
    "    <u>آمریکا</u>\n",
    "    از برجام رخ داده، برای مردم جهان قابل نادیده گرفتن نیست. طرف مذاکره کننده نمی‌تواند ترور سردار سلیمانی، شهید فخری‌زاده (با جایگاهی که شهید فخری‌زاده در انرژی هسته‌ای و مخالفت با برجام داشت) 4 حمله دشمنان به تأسیسات هسته ای ایران و زوایای متعدد به سایت ها و سانترفیوژها، تشدید \n",
    "    <u>تحریم‌ها</u>\n",
    "    و ادامه تحریم‌ها توسط آمریکا و غرب را نادیده بگیرد. اینها وقایعی است که در طول این مدت رخ داده و این رخدادهای طبیعی، وضعیتی را پدیدآورده که تیم مذاکره کننده غربی با موضع منفعلانه برخورد کند.\n",
    "</div>"
   ]
  },
  {
   "cell_type": "markdown",
   "id": "d60cc460",
   "metadata": {},
   "source": [
    "docID = 10757\n",
    "<div dir=\"rtl\">\n",
    "    علی رغم اینکه هیچ علامت مثبتی از دولت بایدن مبنی بر پذیرش شروط \n",
    "    <u>ایران</u>\n",
    "    دیده نمی‌شد، دولت حسن روحانی دور جدیدی از مذاکرات هسته‌ای را با اروپایی‌ها موسوم به مذاکرات وین آغاز کرد. مذاکراتی که با هدف احیای برجام صورت گرفت و بنا بود زمینه بازگشت \n",
    "    <u>آمریکا</u>\n",
    "    را به برجام فراهم کند. با این حال بدون اینکه این مذاکرات به نتیجه‌ای برسد، دولت روحانی به پایان رسید.\n",
    "\n",
    "دولت سیّد ابراهیم رئیسی که روی کار آمد اعلام کرد میز مذاکره را ترک نخواهد کرد، با این وجود، زمین بازی را از «مذاکره برای احیای برجام» به «مذاکره برای رفع تحریم» تغییر داد و به موضعی بازگشت که قبلاً به‌عنوان سیاست قطعی نظام اعلام شده بود؛ یعنی رفع همه تحریم‌ها و راستی‌آزمایی از سوی ایران.\n",
    "\n",
    "در راستای همین سیاست است که علی باقری معاون سیاسی وزیر امور خارجه که این روزها در حال  فراهم کردن مقدمات مذاکرات ۸ آذر با اروپایی‌هاست، اعلام می‌کند که زین پس مذاکره هسته‌ای نداریم و آنچه به جریان خواهد افتاد، مذاکره برای رفع \n",
    "    <u>تحریم‌های</u>\n",
    "    ظالمانه \n",
    "    <u>علیه</u>\n",
    "    ایران است. سیاستی که توپ را در زمین طرف غربی مذاکرات قرار می‌دهد. چرا که ایران پس از امضای برجام، دغدغه یا بهانه غربی‌ها مبنی بر صلح‌آمیز بودن برنامه هسته‌ای این کشور را برطرف کرده بود و آژانس بین‌المللی انرژی اتمی نیز با راستی‌آزمایی انجام تعهدات ایران در ۱۵ مرحله بر صحت انجام آن، مهر تأیید زده بود. این اهرمی بود در دست ایران تا با اتکا به آن، طرف مقابل را وادار به رفع تحریم‌ها کند یا حداقل بهانه را از دست آن‌ها خارج کند.\n",
    "</div>"
   ]
  },
  {
   "cell_type": "markdown",
   "id": "035f2c92",
   "metadata": {},
   "source": [
    "## Query 2\n",
    "<div dir=\"rtl\">\n",
    "تحریم‌های آمریکا ! ایران\n",
    "</div>"
   ]
  },
  {
   "cell_type": "code",
   "execution_count": 89,
   "id": "8f496f34",
   "metadata": {},
   "outputs": [
    {
     "name": "stdout",
     "output_type": "stream",
     "text": [
      "********************\n",
      "Rank: 14\n",
      "docID: 7615\n",
      "Title: یک مأموریت‌ فتنه 88 کاهش قدرت چانه‌زنی مسؤولان در مذاکرات بود\n",
      "URL: https://www.farsnews.ir/news/14001129000373/یک-مأموریت‌-فتنه-کاهش-قدرت-چانه‌زنی-مسؤولان-در-مذاکرات-بود\n",
      "********************\n",
      "********************\n",
      "Rank: 13\n",
      "docID: 7261\n",
      "Title: سود مافیای اسلحه‌سازی آمریکا در ناامن بودن جهان است\n",
      "URL: https://www.farsnews.ir/news/14001211000898/سود-مافیای-اسلحه‌سازی-آمریکا-در-ناامن-بودن-جهان-است\n",
      "********************\n",
      "********************\n",
      "Rank: 10\n",
      "docID: 8282\n",
      "Title: خطیب جمعه تهران: سازمان‌ همکاری اسلامی در برابر کشتار مردم یمن سکوت کرده است\n",
      "URL: https://www.farsnews.ir/news/14001108000202/خطیب-جمعه-تهران-سازمان‌-همکاری-اسلامی-در-برابر-کشتار-مردم-یمن-سکوت\n",
      "********************\n",
      "********************\n",
      "Rank: 9\n",
      "docID: 7491\n",
      "Title: مسائل اقتصادی کشور را معطل نتیجه مذاکرات نمی‌‌کنیم\n",
      "URL: https://www.farsnews.ir/news/14001203000383/مسائل-اقتصادی-کشور-را-معطل-نتیجه-مذاکرات-نمی‌‌کنیم\n",
      "********************\n",
      "********************\n",
      "Rank: 7\n",
      "docID: 9994\n",
      "Title: امام جمعه موقت تهران: مذاکره کنونی با گذشته که نقد دادند و نسیه گرفتند، تفاوت دارد\n",
      "URL: https://www.farsnews.ir/news/14000919000137/امام-جمعه-موقت-تهران-مذاکره-کنونی-با-گذشته-که-نقد-دادند-و-نسیه-گرفتند\n",
      "********************\n"
     ]
    }
   ],
   "source": [
    "print_query_result('تحریم‌های آمریکا ! ایران')"
   ]
  },
  {
   "cell_type": "markdown",
   "id": "ba7b9597",
   "metadata": {},
   "source": [
    "docID = 7615\n",
    "<div dir=\"rtl\">\n",
    "    حجت‌الاسلام مجتبی ذوالنور نماینده مردم قم در مجلس، در گفت‌وگو با خبرنگار پارلمانی خبرگزاری فارس، با اشاره به مسأله \n",
    "    <u>تحریم‌های</u>\n",
    "    ضدایرانی در حوزه‌های مختلف و ریشه‌های اصلی وقوع پدیده تحریم اظهار داشت: فلسفه وضع تحریم‌ها، افزایش فشار بر مردم و نظام بوده است تا تاب‌آوری مردم از بین برود و مقاومت آنها بشکند و در نهایت تسلیم شوند.\n",
    "    <br>\n",
    "    نماینده مردم قم در مجلس شورای اسلامی، با اشاره به تاثیر فتنه 88 بر گسترش فشارهای تحریمی تصریح کرد: یکی از مأموریت‌های فتنه 88، کاهش قدرت چانه‌زنی مسؤولان در پای میز مذاکره بود و حتی اطلاعاتی در دست داریم که برخی آقازاده‌ها در آن سال به \n",
    "    <u>آمریکا</u>\n",
    "    رفت و آمد می‌کردند و به غربی‌ها و آمریکایی‌ها پیغام می‌دادند که ما نفس نظام را در داخل گرفته‌ایم و اگر شما هم فشارهای تحریمی را افزایش دهید، کار نظام تمام است.\n",
    "</div>"
   ]
  },
  {
   "cell_type": "markdown",
   "id": "773c1d94",
   "metadata": {},
   "source": [
    "docID = 7261\n",
    "<div dir=\"rtl\">\n",
    "    وی افزود: \n",
    "    <u>آمریکا</u>\n",
    "    با سوءاستفاده از شرایط به وجود آمده بین روسیه و اوکراین، کشورهای اروپای شرقی را از روسیه می ترساند تا برای حفاظت از خودشان در برابر حمله احتمالی روسیه، به آمریکا و مافیای حاکم بر آن باج دهند.  \n",
    "    <br>\n",
    "نماینده ادوار مجلس ضمن تاکید به هماهنگ بودن کشورهای غربی گفت: کشورهای غربی به صورت گروهی عمل می کنند و در بزنگاه ها کاملا هماهنگ هستند همچنان که شاهد هستیم در جریان نبرد میان روسیه و اوکراین در اوج اتحاد \n",
    "    <u>تحریم هایی</u>\n",
    "    را به روسیه تحمیل کردند.\n",
    "</div>"
   ]
  },
  {
   "cell_type": "markdown",
   "id": "ca211084",
   "metadata": {},
   "source": [
    "docID = 8282\n",
    "<div dir=\"rtl\">\n",
    "    وی به مذاکرات لغو \n",
    "    <u>تحریم‌ها</u>\n",
    "    هم اشاره کرد و گفت: آمریکا در پی غارتگری است، نه مذاکره؛ \n",
    "    <u>آمریکا</u>\n",
    "    خواب و خیال غارتگری قبل از انقلاب را دارد و این خواب هرگز تعبیر نشده و نخواهد شد.\n",
    "</div>"
   ]
  },
  {
   "cell_type": "markdown",
   "id": "a39cad67",
   "metadata": {},
   "source": [
    "docID = 7491\n",
    "<div dir=\"rtl\">\n",
    "    وی افزود: ما باید بدانیم که \n",
    "    <u>آمریکا</u>\n",
    "    به عنوان یک دشمن همواره در صدد ضربه زدن به کشور، نظام و ملت ماست و طبیعتا بنایش برای آزادسازی \n",
    "    <u>تحریم‌ها</u>\n",
    "    و ایجاد گشایش اقتصادی در کشور ما نخواهد بود.\n",
    "</div>"
   ]
  },
  {
   "cell_type": "markdown",
   "id": "00581d6c",
   "metadata": {},
   "source": [
    "docID = 9994\n",
    "<div dir=\"rtl\">\n",
    "    وی در ادامه با بیان اینکه \n",
    "    <u>آمریکا</u>\n",
    "    در دوره‌های مختلف و در زمان ترامپ و قبل از او در سه جبهه علیه نظام جمهوری اسلامی توطئه کرد، افزود: این سه جبهه شامل وزارت خزانه‌داری آمریکا که مرتب \n",
    "        <u>تحریم‌های</u>\n",
    "        به قول خودشان فلج‌کننده را آماده می‌کند، وزارت خارجه آمریکا که با مسافرت‌های مختلف دولت‌ها و شرکت‌ها را از معامله با ما مرعوب می‌کنند و نیز سازمان سیا است که از ابتدای انقلاب تاکنون در صدد ایجاد نارضایتی در کشور بوده است.\n",
    "</div>"
   ]
  },
  {
   "cell_type": "markdown",
   "id": "f6d68648",
   "metadata": {},
   "source": [
    "# Query 3\n",
    "<div dir=\"rtl\">\n",
    "    کنگره ضدتروریست\n",
    "</div>"
   ]
  },
  {
   "cell_type": "code",
   "execution_count": 90,
   "id": "b3bf16aa",
   "metadata": {},
   "outputs": [
    {
     "name": "stdout",
     "output_type": "stream",
     "text": [
      "********************\n",
      "Rank: 5\n",
      "docID: 6929\n",
      "Title: توضیحات یک منبع آگاه درباره وقفه مذاکرات وین\n",
      "URL: https://www.farsnews.ir/news/14001222000450/توضیحات-یک-منبع-آگاه-درباره-وقفه-مذاکرات-وین\n",
      "********************\n"
     ]
    }
   ],
   "source": [
    "print_query_result('کنگره ضدتروریست')"
   ]
  },
  {
   "cell_type": "markdown",
   "id": "c5bb5676",
   "metadata": {},
   "source": [
    "<div dir=\"rtl\">\n",
    "    ریگان که نمی‌خواست کمتر از \n",
    "    <u>کنگره ضدتروریست</u>\n",
    "    جلوه کند، 3هفته بعد با صدور دستور ویژه‌ی (12613) ورود هرگونه کالا و خدمات از ایران را ممنوع کرد. وی برای صدور این دستور به بند 505 «قانون همکاری‌های‌ بین‌المللی امنیتی و توسعه»، مصوب سال‌ 1985م. استناد کرد. در واقع زمانی که ایران درگیر جنگ تحمیلی بود، ایالات متحده به تعریف سیاست‌های تحریمی پرداخت که بتواند بر نتیجه‌ی جنگ ایران و عراق تأثیری شگرف بگذارد و رقیب نوپای اسلامی خود را در جنگی نابرابر از میدان به در کند. اما پایان جنگ، تافته‌ی بافته‌ی آمریکا را ریش ریش کرد.\n",
    "</div>"
   ]
  },
  {
   "cell_type": "markdown",
   "id": "382ee35d",
   "metadata": {},
   "source": [
    "## Query 4\n",
    "<div dir=\"rtl\">\n",
    "    \"تحریم هسته‌ای\" آمریکا ! ایران\n",
    "</div>"
   ]
  },
  {
   "cell_type": "code",
   "execution_count": 91,
   "id": "338e1d22",
   "metadata": {},
   "outputs": [],
   "source": [
    "print_query_result('\"تحریم هسته‌ای\" آمریکا ! ایران')"
   ]
  },
  {
   "cell_type": "markdown",
   "id": "a4397061",
   "metadata": {},
   "source": [
    "there is no output for this query"
   ]
  },
  {
   "cell_type": "markdown",
   "id": "81739a08",
   "metadata": {},
   "source": [
    "## Query 5\n",
    "<div dir=\"rtl\">\n",
    "    اورشلیم ! صهیونیست\n",
    "</div>"
   ]
  },
  {
   "cell_type": "code",
   "execution_count": 92,
   "id": "1b3c3162",
   "metadata": {},
   "outputs": [],
   "source": [
    "print_query_result('اورشلیم ! صهیونیست')"
   ]
  },
  {
   "cell_type": "markdown",
   "id": "7878a88b",
   "metadata": {},
   "source": [
    "there is no output for this query"
   ]
  },
  {
   "cell_type": "markdown",
   "id": "57c106e5",
   "metadata": {},
   "source": [
    "# Zipf Law\n",
    "در این قسمت، می خواهیم رابطه بین تکرار توکن ها در کل اسناد و رتبه توکن بپردازیم\n",
    "$$\\log cf_i = \\log K - \\log i$$"
   ]
  },
  {
   "cell_type": "code",
   "execution_count": 17,
   "id": "2043c974",
   "metadata": {},
   "outputs": [],
   "source": [
    "def token_incidence(docs):\n",
    "    token_inc = dict()\n",
    "    for body in docs.values():\n",
    "        for token in body['content']:\n",
    "            if token_inc.get(token):\n",
    "                token_inc[token] += 1\n",
    "            else: \n",
    "                token_inc[token] = 1\n",
    "    \n",
    "    return [(token, inc) for token, inc in token_inc.items()]"
   ]
  },
  {
   "cell_type": "code",
   "execution_count": 18,
   "id": "33c0457a",
   "metadata": {},
   "outputs": [],
   "source": [
    "dictionary_with_stopwords = token_incidence(preprocess_contents(load_docs(docs_path), stopwords_remove=False))\n",
    "dictionary_without_stopwords = token_incidence(preprocess_contents(load_docs(docs_path), stopwords_remove=True))"
   ]
  },
  {
   "cell_type": "code",
   "execution_count": 19,
   "id": "4bdb9620",
   "metadata": {},
   "outputs": [
    {
     "data": {
      "image/png": "[encoded data removed]",
      "text/plain": [
       "<Figure size 432x288 with 1 Axes>"
      ]
     },
     "metadata": {
      "needs_background": "light"
     },
     "output_type": "display_data"
    }
   ],
   "source": [
    "def draw_zipf_plot(dictionary, plot_label):\n",
    "    dictionary.sort(key=lambda x: x[1], reverse=True)\n",
    "    incid = list(map(lambda x: math.log(x[1]), dictionary))\n",
    "    interval = range(1, len(dictionary)+1)\n",
    "    interval = list(map(math.log, interval))\n",
    "#     print(incid)\n",
    "    plt.title('Zipf Graph')\n",
    "    plt.xlabel(r'$\\log Rank$')\n",
    "    plt.ylabel(r'$\\log cf$')\n",
    "    plt.plot(interval, incid, label=plot_label)\n",
    "    plt.plot(range(13), range(13)[::-1], label='Ideal Graph')\n",
    "    plt.legend()\n",
    "draw_zipf_plot(dictionary_with_stopwords, plot_label='Dictionary with Stopwords')"
   ]
  },
  {
   "cell_type": "code",
   "execution_count": 20,
   "id": "cf637bd3",
   "metadata": {},
   "outputs": [
    {
     "data": {
      "image/png": "[encoded data removed]",
      "text/plain": [
       "<Figure size 432x288 with 1 Axes>"
      ]
     },
     "metadata": {
      "needs_background": "light"
     },
     "output_type": "display_data"
    }
   ],
   "source": [
    "draw_zipf_plot(dictionary_without_stopwords, plot_label='Dictionary without Stopwords')"
   ]
  },
  {
   "cell_type": "markdown",
   "id": "513dd7a2",
   "metadata": {},
   "source": [
    "<div dir=\"rtl\">\n",
    "    همانطور که مشاهده می شود، با افزایش جایگاه کلمات در دیکشنری تقریبا با شیب -۱ تعداد تکرار کلمه در کل داک ها کاهش پیدا می کند. چرا که در این نمودار داده ها بعد از اعمال لگاریتم محاسبه شده اند. پس قانون zipf در اینجا برقرار می باشد.\n",
    "    <br>\n",
    "    با توجه به نمودار می توان بیان کرد که با حذف stopwords خاصیت zipf به صورت بارزتری رخ داده و از آن پیروی می کند. به خصوص به ازای کلمات پرتکرار.\n",
    "</div>"
   ]
  },
  {
   "cell_type": "markdown",
   "id": "31ff76c9",
   "metadata": {},
   "source": [
    "# Heaps Law\n",
    "در این قسمت می خواهیم به ارتباط میان تعداد توکن های استخراج شده و سایز دیکشنری بپردازیم.\n",
    "$$\\log M = \\log K + b\\log T$$"
   ]
  },
  {
   "cell_type": "code",
   "execution_count": 68,
   "id": "5833aa93",
   "metadata": {},
   "outputs": [],
   "source": [
    "def token_heaps(docs):\n",
    "    seen_docs = 0\n",
    "    seen_token_num = 0\n",
    "    dictionary = set()\n",
    "    dictionary_size = []\n",
    "    dictionary_size_estimation = []\n",
    "    seen_token_num_list = []\n",
    "    for body in docs.values():\n",
    "        for token in body['content']:\n",
    "            seen_token_num += 1\n",
    "            dictionary.add(token)\n",
    "            dictionary_size.append(len(dictionary))\n",
    "        seen_docs += 1\n",
    "        if seen_docs in [500, 1000, 1500, 2000]:\n",
    "            dictionary_size_estimation.append(len(dictionary))\n",
    "            seen_token_num_list.append(seen_token_num)\n",
    "    \n",
    "    return dictionary_size, dictionary_size_estimation, seen_token_num_list"
   ]
  },
  {
   "cell_type": "code",
   "execution_count": 77,
   "id": "424a06dd",
   "metadata": {},
   "outputs": [
    {
     "data": {
      "image/png": "[encoded data removed]",
      "text/plain": [
       "<Figure size 432x288 with 1 Axes>"
      ]
     },
     "metadata": {
      "needs_background": "light"
     },
     "output_type": "display_data"
    }
   ],
   "source": [
    "def draw_heaps_plot(docs, title):\n",
    "    dictionary_size, dictionary_size_estimation, seen_token_num_list = token_heaps(docs)\n",
    "    model = LinearRegression()\n",
    "    X = np.array(list(map(math.log, seen_token_num_list))).reshape(-1, 1)\n",
    "    y = np.array(list(map(math.log, dictionary_size_estimation)))\n",
    "    model.fit(X, y)\n",
    "    plt.title(title)\n",
    "    plt.xlabel(r'$\\log T$')\n",
    "    plt.ylabel(r'$\\log M$')\n",
    "    plt.plot(list(map(math.log, range(1, len(dictionary_size)+1))), list(map(math.log, dictionary_size)), label='actual dictionary size')\n",
    "    estimation_list = list(map(math.log, [1] + seen_token_num_list + [len(dictionary_size)]))\n",
    "    plt.plot(estimation_list, list(map(lambda x: model.coef_ * x + model.intercept_, estimation_list)), linestyle='--', label='expected dictionary size')\n",
    "    plt.plot(list(map(math.log, seen_token_num_list)), list(map(math.log, dictionary_size_estimation)), 'ro', label='Sampled points')\n",
    "    plt.legend()\n",
    "    \n",
    "draw_heaps_plot(preprocessed_docs, 'Heaps Law after Stemming')"
   ]
  },
  {
   "cell_type": "code",
   "execution_count": 67,
   "id": "28cd0914",
   "metadata": {},
   "outputs": [],
   "source": [
    "preprocessed_docs_without_stemming = preprocess_contents(docs, stemming=False)"
   ]
  },
  {
   "cell_type": "code",
   "execution_count": 78,
   "id": "56ea83f2",
   "metadata": {},
   "outputs": [
    {
     "data": {
      "image/png": "[encoded data removed]",
      "text/plain": [
       "<Figure size 432x288 with 1 Axes>"
      ]
     },
     "metadata": {
      "needs_background": "light"
     },
     "output_type": "display_data"
    }
   ],
   "source": [
    "draw_heaps_plot(preprocessed_docs_without_stemming, 'Heaps Law before Stemming')"
   ]
  },
  {
   "cell_type": "markdown",
   "id": "4e233b31",
   "metadata": {},
   "source": [
    "<div dir=\"rtl\">\n",
    "    در این قسمت نیز مشاهده می شود که با توجه به نقاطی که در آن نمونه برداری صورت گرفته است، سایز تخمینی دیکشنری نزدیک به سایز واقعی آن می باشد. بنابراین در اینجا نیز می توان بیان کرد که قانون heaps در هر دو حالت بعد از ریشه یابی و قبل از آن برقرار می باشد.\n",
    "    \n",
    "    در این حالت به دلیل اینکه برخی از کلمات که پیش از این پس از استخراج یک مدخل جدید در مجموعه دیکشنری ایجاد میکردند، حال به عنوان یک مدخل که در گذشته اضافه شده است، اضافه می شود و به همین دلیل در این حالت شیب خط کمتر است.\n",
    "</div>"
   ]
  },
  {
   "cell_type": "markdown",
   "id": "e4368f9a",
   "metadata": {},
   "source": [
    "# Challenges with Stemming"
   ]
  },
  {
   "cell_type": "markdown",
   "id": "670adbb9",
   "metadata": {},
   "source": [
    "<div dir=\"rtl\">\n",
    "    مشکل در تشخیص جمع کلمات با «ات»\n",
    "</div>"
   ]
  },
  {
   "cell_type": "code",
   "execution_count": 98,
   "id": "34d09b6a",
   "metadata": {},
   "outputs": [
    {
     "data": {
      "text/plain": [
       "['مکرر']"
      ]
     },
     "execution_count": 98,
     "metadata": {},
     "output_type": "execute_result"
    }
   ],
   "source": [
    "preprocess('مکرر')"
   ]
  },
  {
   "cell_type": "code",
   "execution_count": 97,
   "id": "2fcb6432",
   "metadata": {},
   "outputs": [
    {
     "data": {
      "text/plain": [
       "['مکررا']"
      ]
     },
     "execution_count": 97,
     "metadata": {},
     "output_type": "execute_result"
    }
   ],
   "source": [
    "preprocess('مکررات')"
   ]
  },
  {
   "cell_type": "markdown",
   "id": "2329502e",
   "metadata": {},
   "source": [
    "<div dir=\"rtl\">\n",
    "    تفاوت قائل شدن میان دو کلمه با ریشه یکسان\n",
    "</div>"
   ]
  },
  {
   "cell_type": "code",
   "execution_count": 126,
   "id": "5e581c34",
   "metadata": {},
   "outputs": [
    {
     "data": {
      "text/plain": [
       "['آزمایشی']"
      ]
     },
     "execution_count": 126,
     "metadata": {},
     "output_type": "execute_result"
    }
   ],
   "source": [
    "preprocess('آزمایشی')"
   ]
  },
  {
   "cell_type": "code",
   "execution_count": 127,
   "id": "c8ec809b",
   "metadata": {},
   "outputs": [
    {
     "data": {
      "text/plain": [
       "['آزمایش']"
      ]
     },
     "execution_count": 127,
     "metadata": {},
     "output_type": "execute_result"
    }
   ],
   "source": [
    "preprocess('آزمایش')"
   ]
  },
  {
   "cell_type": "markdown",
   "id": "8ad43f69",
   "metadata": {},
   "source": [
    "<div dir=\"rtl\">\n",
    "    تلاش برای ریشه یابی کردن بر روی کلمات خارجی\n",
    "</div>"
   ]
  },
  {
   "cell_type": "code",
   "execution_count": 147,
   "id": "98485e4f",
   "metadata": {},
   "outputs": [
    {
     "data": {
      "text/plain": [
       "['آنت', 'هیستامین']"
      ]
     },
     "execution_count": 147,
     "metadata": {},
     "output_type": "execute_result"
    }
   ],
   "source": [
    "preprocess('آنتی هیستامین')"
   ]
  }
 ],
 "metadata": {
  "kernelspec": {
   "display_name": "Python 3 (ipykernel)",
   "language": "python",
   "name": "python3"
  },
  "language_info": {
   "codemirror_mode": {
    "name": "ipython",
    "version": 3
   },
   "file_extension": ".py",
   "mimetype": "text/x-python",
   "name": "python",
   "nbconvert_exporter": "python",
   "pygments_lexer": "ipython3",
   "version": "3.8.10"
  }
 },
 "nbformat": 4,
 "nbformat_minor": 5
}
